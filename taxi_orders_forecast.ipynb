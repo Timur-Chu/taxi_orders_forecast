{
 "cells": [
  {
   "cell_type": "markdown",
   "metadata": {
    "toc": true
   },
   "source": [
    "<h1>Содержание<span class=\"tocSkip\"></span></h1>\n",
    "<div class=\"toc\"><ul class=\"toc-item\"><li><span><a href=\"#Подготовка\" data-toc-modified-id=\"Подготовка-1\"><span class=\"toc-item-num\">1&nbsp;&nbsp;</span>Подготовка</a></span></li><li><span><a href=\"#Анализ\" data-toc-modified-id=\"Анализ-2\"><span class=\"toc-item-num\">2&nbsp;&nbsp;</span>Анализ</a></span></li><li><span><a href=\"#Обучение\" data-toc-modified-id=\"Обучение-3\"><span class=\"toc-item-num\">3&nbsp;&nbsp;</span>Обучение</a></span></li><li><span><a href=\"#Тестирование\" data-toc-modified-id=\"Тестирование-4\"><span class=\"toc-item-num\">4&nbsp;&nbsp;</span>Тестирование</a></span></li><li><span><a href=\"#Финальный-вывод\" data-toc-modified-id=\"Финальный-вывод-5\"><span class=\"toc-item-num\">5&nbsp;&nbsp;</span>Финальный вывод</a></span></li><li><span><a href=\"#Чек-лист-проверки\" data-toc-modified-id=\"Чек-лист-проверки-6\"><span class=\"toc-item-num\">6&nbsp;&nbsp;</span>Чек-лист проверки</a></span></li></ul></div>"
   ]
  },
  {
   "cell_type": "markdown",
   "metadata": {},
   "source": [
    "#  Прогнозирование заказов такси"
   ]
  },
  {
   "cell_type": "markdown",
   "metadata": {},
   "source": [
    "Компания «Чётенькое такси» собрала исторические данные о заказах такси в аэропортах. Чтобы привлекать больше водителей в период пиковой нагрузки, нужно спрогнозировать количество заказов такси на следующий час. Постройте модель для такого предсказания.\n",
    "\n",
    "Значение метрики *RMSE* на тестовой выборке должно быть не больше 48.\n",
    "\n",
    "Вам нужно:\n",
    "\n",
    "1. Загрузить данные и выполнить их ресемплирование по одному часу.\n",
    "2. Проанализировать данные.\n",
    "3. Обучить разные модели с различными гиперпараметрами. Сделать тестовую выборку размером 10% от исходных данных.\n",
    "4. Проверить данные на тестовой выборке и сделать выводы.\n",
    "\n",
    "\n",
    "Данные лежат в файле `taxi.csv`. Количество заказов находится в столбце `num_orders` (от англ. *number of orders*, «число заказов»)."
   ]
  },
  {
   "cell_type": "markdown",
   "metadata": {},
   "source": [
    "## Подготовка"
   ]
  },
  {
   "cell_type": "code",
   "execution_count": 1,
   "metadata": {},
   "outputs": [],
   "source": [
    "import pandas as pd\n",
    "import numpy as np\n",
    "import matplotlib.pyplot as plt\n",
    "\n",
    "from sklearn.model_selection import train_test_split\n",
    "from sklearn.tree import DecisionTreeRegressor\n",
    "from sklearn.ensemble import RandomForestRegressor\n",
    "from sklearn.linear_model import LinearRegression\n",
    "from sklearn.metrics import mean_absolute_error\n",
    "from statsmodels.tsa.seasonal import seasonal_decompose\n",
    "from sklearn.metrics import mean_squared_error\n",
    "from sklearn.model_selection import GridSearchCV\n",
    "from sklearn.model_selection import cross_val_score\n",
    "from lightgbm.sklearn import LGBMRegressor\n",
    "from sklearn.model_selection import TimeSeriesSplit\n",
    "from sklearn.metrics import make_scorer"
   ]
  },
  {
   "cell_type": "code",
   "execution_count": 2,
   "metadata": {},
   "outputs": [
    {
     "name": "stdout",
     "output_type": "stream",
     "text": [
      "<class 'pandas.core.frame.DataFrame'>\n",
      "RangeIndex: 26496 entries, 0 to 26495\n",
      "Data columns (total 2 columns):\n",
      " #   Column      Non-Null Count  Dtype \n",
      "---  ------      --------------  ----- \n",
      " 0   datetime    26496 non-null  object\n",
      " 1   num_orders  26496 non-null  int64 \n",
      "dtypes: int64(1), object(1)\n",
      "memory usage: 414.1+ KB\n"
     ]
    },
    {
     "data": {
      "text/html": [
       "<div>\n",
       "<style scoped>\n",
       "    .dataframe tbody tr th:only-of-type {\n",
       "        vertical-align: middle;\n",
       "    }\n",
       "\n",
       "    .dataframe tbody tr th {\n",
       "        vertical-align: top;\n",
       "    }\n",
       "\n",
       "    .dataframe thead th {\n",
       "        text-align: right;\n",
       "    }\n",
       "</style>\n",
       "<table border=\"1\" class=\"dataframe\">\n",
       "  <thead>\n",
       "    <tr style=\"text-align: right;\">\n",
       "      <th></th>\n",
       "      <th>datetime</th>\n",
       "      <th>num_orders</th>\n",
       "    </tr>\n",
       "  </thead>\n",
       "  <tbody>\n",
       "    <tr>\n",
       "      <th>0</th>\n",
       "      <td>2018-03-01 00:00:00</td>\n",
       "      <td>9</td>\n",
       "    </tr>\n",
       "    <tr>\n",
       "      <th>1</th>\n",
       "      <td>2018-03-01 00:10:00</td>\n",
       "      <td>14</td>\n",
       "    </tr>\n",
       "    <tr>\n",
       "      <th>2</th>\n",
       "      <td>2018-03-01 00:20:00</td>\n",
       "      <td>28</td>\n",
       "    </tr>\n",
       "    <tr>\n",
       "      <th>3</th>\n",
       "      <td>2018-03-01 00:30:00</td>\n",
       "      <td>20</td>\n",
       "    </tr>\n",
       "    <tr>\n",
       "      <th>4</th>\n",
       "      <td>2018-03-01 00:40:00</td>\n",
       "      <td>32</td>\n",
       "    </tr>\n",
       "  </tbody>\n",
       "</table>\n",
       "</div>"
      ],
      "text/plain": [
       "              datetime  num_orders\n",
       "0  2018-03-01 00:00:00           9\n",
       "1  2018-03-01 00:10:00          14\n",
       "2  2018-03-01 00:20:00          28\n",
       "3  2018-03-01 00:30:00          20\n",
       "4  2018-03-01 00:40:00          32"
      ]
     },
     "execution_count": 2,
     "metadata": {},
     "output_type": "execute_result"
    }
   ],
   "source": [
    "df = pd.read_csv('/datasets/taxi.csv')\n",
    "df.info()\n",
    "df.head()"
   ]
  },
  {
   "cell_type": "code",
   "execution_count": 3,
   "metadata": {
    "scrolled": false
   },
   "outputs": [
    {
     "name": "stdout",
     "output_type": "stream",
     "text": [
      "<class 'pandas.core.frame.DataFrame'>\n",
      "DatetimeIndex: 4416 entries, 2018-03-01 00:00:00 to 2018-08-31 23:00:00\n",
      "Freq: H\n",
      "Data columns (total 1 columns):\n",
      " #   Column      Non-Null Count  Dtype\n",
      "---  ------      --------------  -----\n",
      " 0   num_orders  4416 non-null   int64\n",
      "dtypes: int64(1)\n",
      "memory usage: 69.0 KB\n"
     ]
    },
    {
     "data": {
      "text/html": [
       "<div>\n",
       "<style scoped>\n",
       "    .dataframe tbody tr th:only-of-type {\n",
       "        vertical-align: middle;\n",
       "    }\n",
       "\n",
       "    .dataframe tbody tr th {\n",
       "        vertical-align: top;\n",
       "    }\n",
       "\n",
       "    .dataframe thead th {\n",
       "        text-align: right;\n",
       "    }\n",
       "</style>\n",
       "<table border=\"1\" class=\"dataframe\">\n",
       "  <thead>\n",
       "    <tr style=\"text-align: right;\">\n",
       "      <th></th>\n",
       "      <th>num_orders</th>\n",
       "    </tr>\n",
       "    <tr>\n",
       "      <th>datetime</th>\n",
       "      <th></th>\n",
       "    </tr>\n",
       "  </thead>\n",
       "  <tbody>\n",
       "    <tr>\n",
       "      <th>2018-03-01 00:00:00</th>\n",
       "      <td>124</td>\n",
       "    </tr>\n",
       "    <tr>\n",
       "      <th>2018-03-01 01:00:00</th>\n",
       "      <td>85</td>\n",
       "    </tr>\n",
       "    <tr>\n",
       "      <th>2018-03-01 02:00:00</th>\n",
       "      <td>71</td>\n",
       "    </tr>\n",
       "    <tr>\n",
       "      <th>2018-03-01 03:00:00</th>\n",
       "      <td>66</td>\n",
       "    </tr>\n",
       "    <tr>\n",
       "      <th>2018-03-01 04:00:00</th>\n",
       "      <td>43</td>\n",
       "    </tr>\n",
       "  </tbody>\n",
       "</table>\n",
       "</div>"
      ],
      "text/plain": [
       "                     num_orders\n",
       "datetime                       \n",
       "2018-03-01 00:00:00         124\n",
       "2018-03-01 01:00:00          85\n",
       "2018-03-01 02:00:00          71\n",
       "2018-03-01 03:00:00          66\n",
       "2018-03-01 04:00:00          43"
      ]
     },
     "execution_count": 3,
     "metadata": {},
     "output_type": "execute_result"
    }
   ],
   "source": [
    "df = pd.read_csv('/datasets/taxi.csv',index_col=[0], parse_dates=[0])\n",
    "df.sort_index(inplace=True)\n",
    "df = df.resample('1H').sum()\n",
    "df.info()\n",
    "df.head()"
   ]
  },
  {
   "cell_type": "markdown",
   "metadata": {},
   "source": [
    "## Анализ"
   ]
  },
  {
   "cell_type": "markdown",
   "metadata": {},
   "source": [
    "Разложим временной ряд на тренд и сезоную составляющие"
   ]
  },
  {
   "cell_type": "code",
   "execution_count": 4,
   "metadata": {},
   "outputs": [
    {
     "data": {
      "image/png": "[encoded data removed]",
      "text/plain": [
       "<Figure size 576x576 with 3 Axes>"
      ]
     },
     "metadata": {
      "needs_background": "light"
     },
     "output_type": "display_data"
    }
   ],
   "source": [
    "decomposed = seasonal_decompose(df)\n",
    " \n",
    "plt.figure(figsize=(8, 8)) \n",
    "plt.subplot(311)\n",
    "decomposed.trend.plot(ax=plt.gca())\n",
    "plt.title('Тренд')\n",
    "plt.subplot(312)\n",
    "decomposed.seasonal['2018-03-01':'2018-03-05'].plot(ax=plt.gca())\n",
    "plt.title('Сезонная состаляющая')\n",
    "plt.subplot(313)\n",
    "decomposed.resid.plot(ax=plt.gca())\n",
    "plt.title('Остаток')\n",
    "plt.tight_layout()\n"
   ]
  },
  {
   "cell_type": "markdown",
   "metadata": {},
   "source": [
    "Исходя из графиков определеям календарные признаки будем закладывать в модель:\n",
    "1. Месяц  и число (по графику тренда)\n",
    "2. Часы  (по графику сезонности)\n",
    "3. День недели (по графику остатков)\n",
    "\n",
    "Мы делаем прогноз на сутки, поэтому скользящее среднее равно 24 часам\n",
    "\n",
    "Количество лагов будем подбирать перебором(1 час, 3часа, 6 часов, 12 часов, 24 часа) в цикле\n",
    "Для этого используем функцию создания признаков, результатотм которой будет расчет метрики RSME логистической регресии:"
   ]
  },
  {
   "cell_type": "markdown",
   "metadata": {},
   "source": [
    " На этом этапе я хочу подобрать значение количества лагов и выбрать его при лучшем качестве кроссвалидации.\n",
    "Использовать кросс-валидацию будем с параметором TimeSeriesSplit.\n",
    "Учитывая твой последующий комментарий, результат расчета функции будем сохранять в отдельный список data_temp, а не перезаписывть глобальную переменную df"
   ]
  },
  {
   "cell_type": "code",
   "execution_count": 5,
   "metadata": {
    "scrolled": false
   },
   "outputs": [],
   "source": [
    "def make_features(data, max_lag, rolling_mean_size):\n",
    "    \n",
    "    data['month'] = data.index.month\n",
    "    data['day'] = data.index.day\n",
    "    data['hour'] = data.index.hour\n",
    "    data['dayofweek'] = data.index.dayofweek\n",
    "    \n",
    "\n",
    "    for lag in range(1, max_lag + 1):\n",
    "        data['lag_{}'.format(lag)] = data['num_orders'].shift(lag)\n",
    "\n",
    "    data['rolling_mean'] = data['num_orders'].shift().rolling(rolling_mean_size).mean()\n",
    "    \n",
    "    train, test = train_test_split(data, shuffle=False, test_size=0.1)\n",
    "    train = train.dropna()\n",
    "    \n",
    "    features_train = train.drop('num_orders',axis=1)\n",
    "    features_test = test.drop('num_orders',axis=1)\n",
    "    target_train = train['num_orders']\n",
    "    target_test = test['num_orders']\n",
    "\n",
    "    model = LinearRegression()\n",
    "    rsme = -cross_val_score(model, features_train, target_train, scoring='neg_root_mean_squared_error', cv=TimeSeriesSplit(n_splits=5)).mean()\n",
    "    print(f'RSME = {rsme.round(2)} при lag= {max_lag}')\n",
    "    return data"
   ]
  },
  {
   "cell_type": "code",
   "execution_count": 6,
   "metadata": {
    "scrolled": false
   },
   "outputs": [
    {
     "name": "stdout",
     "output_type": "stream",
     "text": [
      "RSME = 31.54 при lag= 1\n"
     ]
    },
    {
     "data": {
      "text/html": [
       "<div>\n",
       "<style scoped>\n",
       "    .dataframe tbody tr th:only-of-type {\n",
       "        vertical-align: middle;\n",
       "    }\n",
       "\n",
       "    .dataframe tbody tr th {\n",
       "        vertical-align: top;\n",
       "    }\n",
       "\n",
       "    .dataframe thead th {\n",
       "        text-align: right;\n",
       "    }\n",
       "</style>\n",
       "<table border=\"1\" class=\"dataframe\">\n",
       "  <thead>\n",
       "    <tr style=\"text-align: right;\">\n",
       "      <th></th>\n",
       "      <th>num_orders</th>\n",
       "      <th>month</th>\n",
       "      <th>day</th>\n",
       "      <th>hour</th>\n",
       "      <th>dayofweek</th>\n",
       "      <th>lag_1</th>\n",
       "      <th>rolling_mean</th>\n",
       "    </tr>\n",
       "    <tr>\n",
       "      <th>datetime</th>\n",
       "      <th></th>\n",
       "      <th></th>\n",
       "      <th></th>\n",
       "      <th></th>\n",
       "      <th></th>\n",
       "      <th></th>\n",
       "      <th></th>\n",
       "    </tr>\n",
       "  </thead>\n",
       "  <tbody>\n",
       "    <tr>\n",
       "      <th>2018-03-01 00:00:00</th>\n",
       "      <td>124</td>\n",
       "      <td>3</td>\n",
       "      <td>1</td>\n",
       "      <td>0</td>\n",
       "      <td>3</td>\n",
       "      <td>NaN</td>\n",
       "      <td>NaN</td>\n",
       "    </tr>\n",
       "    <tr>\n",
       "      <th>2018-03-01 01:00:00</th>\n",
       "      <td>85</td>\n",
       "      <td>3</td>\n",
       "      <td>1</td>\n",
       "      <td>1</td>\n",
       "      <td>3</td>\n",
       "      <td>124.0</td>\n",
       "      <td>NaN</td>\n",
       "    </tr>\n",
       "    <tr>\n",
       "      <th>2018-03-01 02:00:00</th>\n",
       "      <td>71</td>\n",
       "      <td>3</td>\n",
       "      <td>1</td>\n",
       "      <td>2</td>\n",
       "      <td>3</td>\n",
       "      <td>85.0</td>\n",
       "      <td>NaN</td>\n",
       "    </tr>\n",
       "    <tr>\n",
       "      <th>2018-03-01 03:00:00</th>\n",
       "      <td>66</td>\n",
       "      <td>3</td>\n",
       "      <td>1</td>\n",
       "      <td>3</td>\n",
       "      <td>3</td>\n",
       "      <td>71.0</td>\n",
       "      <td>NaN</td>\n",
       "    </tr>\n",
       "    <tr>\n",
       "      <th>2018-03-01 04:00:00</th>\n",
       "      <td>43</td>\n",
       "      <td>3</td>\n",
       "      <td>1</td>\n",
       "      <td>4</td>\n",
       "      <td>3</td>\n",
       "      <td>66.0</td>\n",
       "      <td>NaN</td>\n",
       "    </tr>\n",
       "  </tbody>\n",
       "</table>\n",
       "</div>"
      ],
      "text/plain": [
       "                     num_orders  month  day  hour  dayofweek  lag_1  \\\n",
       "datetime                                                              \n",
       "2018-03-01 00:00:00         124      3    1     0          3    NaN   \n",
       "2018-03-01 01:00:00          85      3    1     1          3  124.0   \n",
       "2018-03-01 02:00:00          71      3    1     2          3   85.0   \n",
       "2018-03-01 03:00:00          66      3    1     3          3   71.0   \n",
       "2018-03-01 04:00:00          43      3    1     4          3   66.0   \n",
       "\n",
       "                     rolling_mean  \n",
       "datetime                           \n",
       "2018-03-01 00:00:00           NaN  \n",
       "2018-03-01 01:00:00           NaN  \n",
       "2018-03-01 02:00:00           NaN  \n",
       "2018-03-01 03:00:00           NaN  \n",
       "2018-03-01 04:00:00           NaN  "
      ]
     },
     "metadata": {},
     "output_type": "display_data"
    },
    {
     "name": "stdout",
     "output_type": "stream",
     "text": [
      "RSME = 31.46 при lag= 3\n"
     ]
    },
    {
     "data": {
      "text/html": [
       "<div>\n",
       "<style scoped>\n",
       "    .dataframe tbody tr th:only-of-type {\n",
       "        vertical-align: middle;\n",
       "    }\n",
       "\n",
       "    .dataframe tbody tr th {\n",
       "        vertical-align: top;\n",
       "    }\n",
       "\n",
       "    .dataframe thead th {\n",
       "        text-align: right;\n",
       "    }\n",
       "</style>\n",
       "<table border=\"1\" class=\"dataframe\">\n",
       "  <thead>\n",
       "    <tr style=\"text-align: right;\">\n",
       "      <th></th>\n",
       "      <th>num_orders</th>\n",
       "      <th>month</th>\n",
       "      <th>day</th>\n",
       "      <th>hour</th>\n",
       "      <th>dayofweek</th>\n",
       "      <th>lag_1</th>\n",
       "      <th>rolling_mean</th>\n",
       "      <th>lag_2</th>\n",
       "      <th>lag_3</th>\n",
       "    </tr>\n",
       "    <tr>\n",
       "      <th>datetime</th>\n",
       "      <th></th>\n",
       "      <th></th>\n",
       "      <th></th>\n",
       "      <th></th>\n",
       "      <th></th>\n",
       "      <th></th>\n",
       "      <th></th>\n",
       "      <th></th>\n",
       "      <th></th>\n",
       "    </tr>\n",
       "  </thead>\n",
       "  <tbody>\n",
       "    <tr>\n",
       "      <th>2018-03-01 00:00:00</th>\n",
       "      <td>124</td>\n",
       "      <td>3</td>\n",
       "      <td>1</td>\n",
       "      <td>0</td>\n",
       "      <td>3</td>\n",
       "      <td>NaN</td>\n",
       "      <td>NaN</td>\n",
       "      <td>NaN</td>\n",
       "      <td>NaN</td>\n",
       "    </tr>\n",
       "    <tr>\n",
       "      <th>2018-03-01 01:00:00</th>\n",
       "      <td>85</td>\n",
       "      <td>3</td>\n",
       "      <td>1</td>\n",
       "      <td>1</td>\n",
       "      <td>3</td>\n",
       "      <td>124.0</td>\n",
       "      <td>NaN</td>\n",
       "      <td>NaN</td>\n",
       "      <td>NaN</td>\n",
       "    </tr>\n",
       "    <tr>\n",
       "      <th>2018-03-01 02:00:00</th>\n",
       "      <td>71</td>\n",
       "      <td>3</td>\n",
       "      <td>1</td>\n",
       "      <td>2</td>\n",
       "      <td>3</td>\n",
       "      <td>85.0</td>\n",
       "      <td>NaN</td>\n",
       "      <td>124.0</td>\n",
       "      <td>NaN</td>\n",
       "    </tr>\n",
       "    <tr>\n",
       "      <th>2018-03-01 03:00:00</th>\n",
       "      <td>66</td>\n",
       "      <td>3</td>\n",
       "      <td>1</td>\n",
       "      <td>3</td>\n",
       "      <td>3</td>\n",
       "      <td>71.0</td>\n",
       "      <td>NaN</td>\n",
       "      <td>85.0</td>\n",
       "      <td>124.0</td>\n",
       "    </tr>\n",
       "    <tr>\n",
       "      <th>2018-03-01 04:00:00</th>\n",
       "      <td>43</td>\n",
       "      <td>3</td>\n",
       "      <td>1</td>\n",
       "      <td>4</td>\n",
       "      <td>3</td>\n",
       "      <td>66.0</td>\n",
       "      <td>NaN</td>\n",
       "      <td>71.0</td>\n",
       "      <td>85.0</td>\n",
       "    </tr>\n",
       "  </tbody>\n",
       "</table>\n",
       "</div>"
      ],
      "text/plain": [
       "                     num_orders  month  day  hour  dayofweek  lag_1  \\\n",
       "datetime                                                              \n",
       "2018-03-01 00:00:00         124      3    1     0          3    NaN   \n",
       "2018-03-01 01:00:00          85      3    1     1          3  124.0   \n",
       "2018-03-01 02:00:00          71      3    1     2          3   85.0   \n",
       "2018-03-01 03:00:00          66      3    1     3          3   71.0   \n",
       "2018-03-01 04:00:00          43      3    1     4          3   66.0   \n",
       "\n",
       "                     rolling_mean  lag_2  lag_3  \n",
       "datetime                                         \n",
       "2018-03-01 00:00:00           NaN    NaN    NaN  \n",
       "2018-03-01 01:00:00           NaN    NaN    NaN  \n",
       "2018-03-01 02:00:00           NaN  124.0    NaN  \n",
       "2018-03-01 03:00:00           NaN   85.0  124.0  \n",
       "2018-03-01 04:00:00           NaN   71.0   85.0  "
      ]
     },
     "metadata": {},
     "output_type": "display_data"
    },
    {
     "name": "stdout",
     "output_type": "stream",
     "text": [
      "RSME = 31.48 при lag= 6\n"
     ]
    },
    {
     "data": {
      "text/html": [
       "<div>\n",
       "<style scoped>\n",
       "    .dataframe tbody tr th:only-of-type {\n",
       "        vertical-align: middle;\n",
       "    }\n",
       "\n",
       "    .dataframe tbody tr th {\n",
       "        vertical-align: top;\n",
       "    }\n",
       "\n",
       "    .dataframe thead th {\n",
       "        text-align: right;\n",
       "    }\n",
       "</style>\n",
       "<table border=\"1\" class=\"dataframe\">\n",
       "  <thead>\n",
       "    <tr style=\"text-align: right;\">\n",
       "      <th></th>\n",
       "      <th>num_orders</th>\n",
       "      <th>month</th>\n",
       "      <th>day</th>\n",
       "      <th>hour</th>\n",
       "      <th>dayofweek</th>\n",
       "      <th>lag_1</th>\n",
       "      <th>rolling_mean</th>\n",
       "      <th>lag_2</th>\n",
       "      <th>lag_3</th>\n",
       "      <th>lag_4</th>\n",
       "      <th>lag_5</th>\n",
       "      <th>lag_6</th>\n",
       "    </tr>\n",
       "    <tr>\n",
       "      <th>datetime</th>\n",
       "      <th></th>\n",
       "      <th></th>\n",
       "      <th></th>\n",
       "      <th></th>\n",
       "      <th></th>\n",
       "      <th></th>\n",
       "      <th></th>\n",
       "      <th></th>\n",
       "      <th></th>\n",
       "      <th></th>\n",
       "      <th></th>\n",
       "      <th></th>\n",
       "    </tr>\n",
       "  </thead>\n",
       "  <tbody>\n",
       "    <tr>\n",
       "      <th>2018-03-01 00:00:00</th>\n",
       "      <td>124</td>\n",
       "      <td>3</td>\n",
       "      <td>1</td>\n",
       "      <td>0</td>\n",
       "      <td>3</td>\n",
       "      <td>NaN</td>\n",
       "      <td>NaN</td>\n",
       "      <td>NaN</td>\n",
       "      <td>NaN</td>\n",
       "      <td>NaN</td>\n",
       "      <td>NaN</td>\n",
       "      <td>NaN</td>\n",
       "    </tr>\n",
       "    <tr>\n",
       "      <th>2018-03-01 01:00:00</th>\n",
       "      <td>85</td>\n",
       "      <td>3</td>\n",
       "      <td>1</td>\n",
       "      <td>1</td>\n",
       "      <td>3</td>\n",
       "      <td>124.0</td>\n",
       "      <td>NaN</td>\n",
       "      <td>NaN</td>\n",
       "      <td>NaN</td>\n",
       "      <td>NaN</td>\n",
       "      <td>NaN</td>\n",
       "      <td>NaN</td>\n",
       "    </tr>\n",
       "    <tr>\n",
       "      <th>2018-03-01 02:00:00</th>\n",
       "      <td>71</td>\n",
       "      <td>3</td>\n",
       "      <td>1</td>\n",
       "      <td>2</td>\n",
       "      <td>3</td>\n",
       "      <td>85.0</td>\n",
       "      <td>NaN</td>\n",
       "      <td>124.0</td>\n",
       "      <td>NaN</td>\n",
       "      <td>NaN</td>\n",
       "      <td>NaN</td>\n",
       "      <td>NaN</td>\n",
       "    </tr>\n",
       "    <tr>\n",
       "      <th>2018-03-01 03:00:00</th>\n",
       "      <td>66</td>\n",
       "      <td>3</td>\n",
       "      <td>1</td>\n",
       "      <td>3</td>\n",
       "      <td>3</td>\n",
       "      <td>71.0</td>\n",
       "      <td>NaN</td>\n",
       "      <td>85.0</td>\n",
       "      <td>124.0</td>\n",
       "      <td>NaN</td>\n",
       "      <td>NaN</td>\n",
       "      <td>NaN</td>\n",
       "    </tr>\n",
       "    <tr>\n",
       "      <th>2018-03-01 04:00:00</th>\n",
       "      <td>43</td>\n",
       "      <td>3</td>\n",
       "      <td>1</td>\n",
       "      <td>4</td>\n",
       "      <td>3</td>\n",
       "      <td>66.0</td>\n",
       "      <td>NaN</td>\n",
       "      <td>71.0</td>\n",
       "      <td>85.0</td>\n",
       "      <td>124.0</td>\n",
       "      <td>NaN</td>\n",
       "      <td>NaN</td>\n",
       "    </tr>\n",
       "  </tbody>\n",
       "</table>\n",
       "</div>"
      ],
      "text/plain": [
       "                     num_orders  month  day  hour  dayofweek  lag_1  \\\n",
       "datetime                                                              \n",
       "2018-03-01 00:00:00         124      3    1     0          3    NaN   \n",
       "2018-03-01 01:00:00          85      3    1     1          3  124.0   \n",
       "2018-03-01 02:00:00          71      3    1     2          3   85.0   \n",
       "2018-03-01 03:00:00          66      3    1     3          3   71.0   \n",
       "2018-03-01 04:00:00          43      3    1     4          3   66.0   \n",
       "\n",
       "                     rolling_mean  lag_2  lag_3  lag_4  lag_5  lag_6  \n",
       "datetime                                                              \n",
       "2018-03-01 00:00:00           NaN    NaN    NaN    NaN    NaN    NaN  \n",
       "2018-03-01 01:00:00           NaN    NaN    NaN    NaN    NaN    NaN  \n",
       "2018-03-01 02:00:00           NaN  124.0    NaN    NaN    NaN    NaN  \n",
       "2018-03-01 03:00:00           NaN   85.0  124.0    NaN    NaN    NaN  \n",
       "2018-03-01 04:00:00           NaN   71.0   85.0  124.0    NaN    NaN  "
      ]
     },
     "metadata": {},
     "output_type": "display_data"
    },
    {
     "name": "stdout",
     "output_type": "stream",
     "text": [
      "RSME = 31.36 при lag= 12\n"
     ]
    },
    {
     "data": {
      "text/html": [
       "<div>\n",
       "<style scoped>\n",
       "    .dataframe tbody tr th:only-of-type {\n",
       "        vertical-align: middle;\n",
       "    }\n",
       "\n",
       "    .dataframe tbody tr th {\n",
       "        vertical-align: top;\n",
       "    }\n",
       "\n",
       "    .dataframe thead th {\n",
       "        text-align: right;\n",
       "    }\n",
       "</style>\n",
       "<table border=\"1\" class=\"dataframe\">\n",
       "  <thead>\n",
       "    <tr style=\"text-align: right;\">\n",
       "      <th></th>\n",
       "      <th>num_orders</th>\n",
       "      <th>month</th>\n",
       "      <th>day</th>\n",
       "      <th>hour</th>\n",
       "      <th>dayofweek</th>\n",
       "      <th>lag_1</th>\n",
       "      <th>rolling_mean</th>\n",
       "      <th>lag_2</th>\n",
       "      <th>lag_3</th>\n",
       "      <th>lag_4</th>\n",
       "      <th>lag_5</th>\n",
       "      <th>lag_6</th>\n",
       "      <th>lag_7</th>\n",
       "      <th>lag_8</th>\n",
       "      <th>lag_9</th>\n",
       "      <th>lag_10</th>\n",
       "      <th>lag_11</th>\n",
       "      <th>lag_12</th>\n",
       "    </tr>\n",
       "    <tr>\n",
       "      <th>datetime</th>\n",
       "      <th></th>\n",
       "      <th></th>\n",
       "      <th></th>\n",
       "      <th></th>\n",
       "      <th></th>\n",
       "      <th></th>\n",
       "      <th></th>\n",
       "      <th></th>\n",
       "      <th></th>\n",
       "      <th></th>\n",
       "      <th></th>\n",
       "      <th></th>\n",
       "      <th></th>\n",
       "      <th></th>\n",
       "      <th></th>\n",
       "      <th></th>\n",
       "      <th></th>\n",
       "      <th></th>\n",
       "    </tr>\n",
       "  </thead>\n",
       "  <tbody>\n",
       "    <tr>\n",
       "      <th>2018-03-01 00:00:00</th>\n",
       "      <td>124</td>\n",
       "      <td>3</td>\n",
       "      <td>1</td>\n",
       "      <td>0</td>\n",
       "      <td>3</td>\n",
       "      <td>NaN</td>\n",
       "      <td>NaN</td>\n",
       "      <td>NaN</td>\n",
       "      <td>NaN</td>\n",
       "      <td>NaN</td>\n",
       "      <td>NaN</td>\n",
       "      <td>NaN</td>\n",
       "      <td>NaN</td>\n",
       "      <td>NaN</td>\n",
       "      <td>NaN</td>\n",
       "      <td>NaN</td>\n",
       "      <td>NaN</td>\n",
       "      <td>NaN</td>\n",
       "    </tr>\n",
       "    <tr>\n",
       "      <th>2018-03-01 01:00:00</th>\n",
       "      <td>85</td>\n",
       "      <td>3</td>\n",
       "      <td>1</td>\n",
       "      <td>1</td>\n",
       "      <td>3</td>\n",
       "      <td>124.0</td>\n",
       "      <td>NaN</td>\n",
       "      <td>NaN</td>\n",
       "      <td>NaN</td>\n",
       "      <td>NaN</td>\n",
       "      <td>NaN</td>\n",
       "      <td>NaN</td>\n",
       "      <td>NaN</td>\n",
       "      <td>NaN</td>\n",
       "      <td>NaN</td>\n",
       "      <td>NaN</td>\n",
       "      <td>NaN</td>\n",
       "      <td>NaN</td>\n",
       "    </tr>\n",
       "    <tr>\n",
       "      <th>2018-03-01 02:00:00</th>\n",
       "      <td>71</td>\n",
       "      <td>3</td>\n",
       "      <td>1</td>\n",
       "      <td>2</td>\n",
       "      <td>3</td>\n",
       "      <td>85.0</td>\n",
       "      <td>NaN</td>\n",
       "      <td>124.0</td>\n",
       "      <td>NaN</td>\n",
       "      <td>NaN</td>\n",
       "      <td>NaN</td>\n",
       "      <td>NaN</td>\n",
       "      <td>NaN</td>\n",
       "      <td>NaN</td>\n",
       "      <td>NaN</td>\n",
       "      <td>NaN</td>\n",
       "      <td>NaN</td>\n",
       "      <td>NaN</td>\n",
       "    </tr>\n",
       "    <tr>\n",
       "      <th>2018-03-01 03:00:00</th>\n",
       "      <td>66</td>\n",
       "      <td>3</td>\n",
       "      <td>1</td>\n",
       "      <td>3</td>\n",
       "      <td>3</td>\n",
       "      <td>71.0</td>\n",
       "      <td>NaN</td>\n",
       "      <td>85.0</td>\n",
       "      <td>124.0</td>\n",
       "      <td>NaN</td>\n",
       "      <td>NaN</td>\n",
       "      <td>NaN</td>\n",
       "      <td>NaN</td>\n",
       "      <td>NaN</td>\n",
       "      <td>NaN</td>\n",
       "      <td>NaN</td>\n",
       "      <td>NaN</td>\n",
       "      <td>NaN</td>\n",
       "    </tr>\n",
       "    <tr>\n",
       "      <th>2018-03-01 04:00:00</th>\n",
       "      <td>43</td>\n",
       "      <td>3</td>\n",
       "      <td>1</td>\n",
       "      <td>4</td>\n",
       "      <td>3</td>\n",
       "      <td>66.0</td>\n",
       "      <td>NaN</td>\n",
       "      <td>71.0</td>\n",
       "      <td>85.0</td>\n",
       "      <td>124.0</td>\n",
       "      <td>NaN</td>\n",
       "      <td>NaN</td>\n",
       "      <td>NaN</td>\n",
       "      <td>NaN</td>\n",
       "      <td>NaN</td>\n",
       "      <td>NaN</td>\n",
       "      <td>NaN</td>\n",
       "      <td>NaN</td>\n",
       "    </tr>\n",
       "  </tbody>\n",
       "</table>\n",
       "</div>"
      ],
      "text/plain": [
       "                     num_orders  month  day  hour  dayofweek  lag_1  \\\n",
       "datetime                                                              \n",
       "2018-03-01 00:00:00         124      3    1     0          3    NaN   \n",
       "2018-03-01 01:00:00          85      3    1     1          3  124.0   \n",
       "2018-03-01 02:00:00          71      3    1     2          3   85.0   \n",
       "2018-03-01 03:00:00          66      3    1     3          3   71.0   \n",
       "2018-03-01 04:00:00          43      3    1     4          3   66.0   \n",
       "\n",
       "                     rolling_mean  lag_2  lag_3  lag_4  lag_5  lag_6  lag_7  \\\n",
       "datetime                                                                      \n",
       "2018-03-01 00:00:00           NaN    NaN    NaN    NaN    NaN    NaN    NaN   \n",
       "2018-03-01 01:00:00           NaN    NaN    NaN    NaN    NaN    NaN    NaN   \n",
       "2018-03-01 02:00:00           NaN  124.0    NaN    NaN    NaN    NaN    NaN   \n",
       "2018-03-01 03:00:00           NaN   85.0  124.0    NaN    NaN    NaN    NaN   \n",
       "2018-03-01 04:00:00           NaN   71.0   85.0  124.0    NaN    NaN    NaN   \n",
       "\n",
       "                     lag_8  lag_9  lag_10  lag_11  lag_12  \n",
       "datetime                                                   \n",
       "2018-03-01 00:00:00    NaN    NaN     NaN     NaN     NaN  \n",
       "2018-03-01 01:00:00    NaN    NaN     NaN     NaN     NaN  \n",
       "2018-03-01 02:00:00    NaN    NaN     NaN     NaN     NaN  \n",
       "2018-03-01 03:00:00    NaN    NaN     NaN     NaN     NaN  \n",
       "2018-03-01 04:00:00    NaN    NaN     NaN     NaN     NaN  "
      ]
     },
     "metadata": {},
     "output_type": "display_data"
    },
    {
     "name": "stdout",
     "output_type": "stream",
     "text": [
      "RSME = 26.94 при lag= 24\n"
     ]
    },
    {
     "data": {
      "text/html": [
       "<div>\n",
       "<style scoped>\n",
       "    .dataframe tbody tr th:only-of-type {\n",
       "        vertical-align: middle;\n",
       "    }\n",
       "\n",
       "    .dataframe tbody tr th {\n",
       "        vertical-align: top;\n",
       "    }\n",
       "\n",
       "    .dataframe thead th {\n",
       "        text-align: right;\n",
       "    }\n",
       "</style>\n",
       "<table border=\"1\" class=\"dataframe\">\n",
       "  <thead>\n",
       "    <tr style=\"text-align: right;\">\n",
       "      <th></th>\n",
       "      <th>num_orders</th>\n",
       "      <th>month</th>\n",
       "      <th>day</th>\n",
       "      <th>hour</th>\n",
       "      <th>dayofweek</th>\n",
       "      <th>lag_1</th>\n",
       "      <th>rolling_mean</th>\n",
       "      <th>lag_2</th>\n",
       "      <th>lag_3</th>\n",
       "      <th>lag_4</th>\n",
       "      <th>...</th>\n",
       "      <th>lag_15</th>\n",
       "      <th>lag_16</th>\n",
       "      <th>lag_17</th>\n",
       "      <th>lag_18</th>\n",
       "      <th>lag_19</th>\n",
       "      <th>lag_20</th>\n",
       "      <th>lag_21</th>\n",
       "      <th>lag_22</th>\n",
       "      <th>lag_23</th>\n",
       "      <th>lag_24</th>\n",
       "    </tr>\n",
       "    <tr>\n",
       "      <th>datetime</th>\n",
       "      <th></th>\n",
       "      <th></th>\n",
       "      <th></th>\n",
       "      <th></th>\n",
       "      <th></th>\n",
       "      <th></th>\n",
       "      <th></th>\n",
       "      <th></th>\n",
       "      <th></th>\n",
       "      <th></th>\n",
       "      <th></th>\n",
       "      <th></th>\n",
       "      <th></th>\n",
       "      <th></th>\n",
       "      <th></th>\n",
       "      <th></th>\n",
       "      <th></th>\n",
       "      <th></th>\n",
       "      <th></th>\n",
       "      <th></th>\n",
       "      <th></th>\n",
       "    </tr>\n",
       "  </thead>\n",
       "  <tbody>\n",
       "    <tr>\n",
       "      <th>2018-03-01 00:00:00</th>\n",
       "      <td>124</td>\n",
       "      <td>3</td>\n",
       "      <td>1</td>\n",
       "      <td>0</td>\n",
       "      <td>3</td>\n",
       "      <td>NaN</td>\n",
       "      <td>NaN</td>\n",
       "      <td>NaN</td>\n",
       "      <td>NaN</td>\n",
       "      <td>NaN</td>\n",
       "      <td>...</td>\n",
       "      <td>NaN</td>\n",
       "      <td>NaN</td>\n",
       "      <td>NaN</td>\n",
       "      <td>NaN</td>\n",
       "      <td>NaN</td>\n",
       "      <td>NaN</td>\n",
       "      <td>NaN</td>\n",
       "      <td>NaN</td>\n",
       "      <td>NaN</td>\n",
       "      <td>NaN</td>\n",
       "    </tr>\n",
       "    <tr>\n",
       "      <th>2018-03-01 01:00:00</th>\n",
       "      <td>85</td>\n",
       "      <td>3</td>\n",
       "      <td>1</td>\n",
       "      <td>1</td>\n",
       "      <td>3</td>\n",
       "      <td>124.0</td>\n",
       "      <td>NaN</td>\n",
       "      <td>NaN</td>\n",
       "      <td>NaN</td>\n",
       "      <td>NaN</td>\n",
       "      <td>...</td>\n",
       "      <td>NaN</td>\n",
       "      <td>NaN</td>\n",
       "      <td>NaN</td>\n",
       "      <td>NaN</td>\n",
       "      <td>NaN</td>\n",
       "      <td>NaN</td>\n",
       "      <td>NaN</td>\n",
       "      <td>NaN</td>\n",
       "      <td>NaN</td>\n",
       "      <td>NaN</td>\n",
       "    </tr>\n",
       "    <tr>\n",
       "      <th>2018-03-01 02:00:00</th>\n",
       "      <td>71</td>\n",
       "      <td>3</td>\n",
       "      <td>1</td>\n",
       "      <td>2</td>\n",
       "      <td>3</td>\n",
       "      <td>85.0</td>\n",
       "      <td>NaN</td>\n",
       "      <td>124.0</td>\n",
       "      <td>NaN</td>\n",
       "      <td>NaN</td>\n",
       "      <td>...</td>\n",
       "      <td>NaN</td>\n",
       "      <td>NaN</td>\n",
       "      <td>NaN</td>\n",
       "      <td>NaN</td>\n",
       "      <td>NaN</td>\n",
       "      <td>NaN</td>\n",
       "      <td>NaN</td>\n",
       "      <td>NaN</td>\n",
       "      <td>NaN</td>\n",
       "      <td>NaN</td>\n",
       "    </tr>\n",
       "    <tr>\n",
       "      <th>2018-03-01 03:00:00</th>\n",
       "      <td>66</td>\n",
       "      <td>3</td>\n",
       "      <td>1</td>\n",
       "      <td>3</td>\n",
       "      <td>3</td>\n",
       "      <td>71.0</td>\n",
       "      <td>NaN</td>\n",
       "      <td>85.0</td>\n",
       "      <td>124.0</td>\n",
       "      <td>NaN</td>\n",
       "      <td>...</td>\n",
       "      <td>NaN</td>\n",
       "      <td>NaN</td>\n",
       "      <td>NaN</td>\n",
       "      <td>NaN</td>\n",
       "      <td>NaN</td>\n",
       "      <td>NaN</td>\n",
       "      <td>NaN</td>\n",
       "      <td>NaN</td>\n",
       "      <td>NaN</td>\n",
       "      <td>NaN</td>\n",
       "    </tr>\n",
       "    <tr>\n",
       "      <th>2018-03-01 04:00:00</th>\n",
       "      <td>43</td>\n",
       "      <td>3</td>\n",
       "      <td>1</td>\n",
       "      <td>4</td>\n",
       "      <td>3</td>\n",
       "      <td>66.0</td>\n",
       "      <td>NaN</td>\n",
       "      <td>71.0</td>\n",
       "      <td>85.0</td>\n",
       "      <td>124.0</td>\n",
       "      <td>...</td>\n",
       "      <td>NaN</td>\n",
       "      <td>NaN</td>\n",
       "      <td>NaN</td>\n",
       "      <td>NaN</td>\n",
       "      <td>NaN</td>\n",
       "      <td>NaN</td>\n",
       "      <td>NaN</td>\n",
       "      <td>NaN</td>\n",
       "      <td>NaN</td>\n",
       "      <td>NaN</td>\n",
       "    </tr>\n",
       "  </tbody>\n",
       "</table>\n",
       "<p>5 rows × 30 columns</p>\n",
       "</div>"
      ],
      "text/plain": [
       "                     num_orders  month  day  hour  dayofweek  lag_1  \\\n",
       "datetime                                                              \n",
       "2018-03-01 00:00:00         124      3    1     0          3    NaN   \n",
       "2018-03-01 01:00:00          85      3    1     1          3  124.0   \n",
       "2018-03-01 02:00:00          71      3    1     2          3   85.0   \n",
       "2018-03-01 03:00:00          66      3    1     3          3   71.0   \n",
       "2018-03-01 04:00:00          43      3    1     4          3   66.0   \n",
       "\n",
       "                     rolling_mean  lag_2  lag_3  lag_4  ...  lag_15  lag_16  \\\n",
       "datetime                                                ...                   \n",
       "2018-03-01 00:00:00           NaN    NaN    NaN    NaN  ...     NaN     NaN   \n",
       "2018-03-01 01:00:00           NaN    NaN    NaN    NaN  ...     NaN     NaN   \n",
       "2018-03-01 02:00:00           NaN  124.0    NaN    NaN  ...     NaN     NaN   \n",
       "2018-03-01 03:00:00           NaN   85.0  124.0    NaN  ...     NaN     NaN   \n",
       "2018-03-01 04:00:00           NaN   71.0   85.0  124.0  ...     NaN     NaN   \n",
       "\n",
       "                     lag_17  lag_18  lag_19  lag_20  lag_21  lag_22  lag_23  \\\n",
       "datetime                                                                      \n",
       "2018-03-01 00:00:00     NaN     NaN     NaN     NaN     NaN     NaN     NaN   \n",
       "2018-03-01 01:00:00     NaN     NaN     NaN     NaN     NaN     NaN     NaN   \n",
       "2018-03-01 02:00:00     NaN     NaN     NaN     NaN     NaN     NaN     NaN   \n",
       "2018-03-01 03:00:00     NaN     NaN     NaN     NaN     NaN     NaN     NaN   \n",
       "2018-03-01 04:00:00     NaN     NaN     NaN     NaN     NaN     NaN     NaN   \n",
       "\n",
       "                     lag_24  \n",
       "datetime                     \n",
       "2018-03-01 00:00:00     NaN  \n",
       "2018-03-01 01:00:00     NaN  \n",
       "2018-03-01 02:00:00     NaN  \n",
       "2018-03-01 03:00:00     NaN  \n",
       "2018-03-01 04:00:00     NaN  \n",
       "\n",
       "[5 rows x 30 columns]"
      ]
     },
     "metadata": {},
     "output_type": "display_data"
    }
   ],
   "source": [
    "lags_list=[1,3,6,12,24]\n",
    "data_temp =[]\n",
    "df_new = df.copy()\n",
    "for i in range(len(lags_list)):\n",
    "    data_temp.append(make_features(df_new, lags_list[i], 24))\n",
    "    display(data_temp[i].head())"
   ]
  },
  {
   "cell_type": "code",
   "execution_count": 7,
   "metadata": {
    "scrolled": true
   },
   "outputs": [
    {
     "data": {
      "text/html": [
       "<div>\n",
       "<style scoped>\n",
       "    .dataframe tbody tr th:only-of-type {\n",
       "        vertical-align: middle;\n",
       "    }\n",
       "\n",
       "    .dataframe tbody tr th {\n",
       "        vertical-align: top;\n",
       "    }\n",
       "\n",
       "    .dataframe thead th {\n",
       "        text-align: right;\n",
       "    }\n",
       "</style>\n",
       "<table border=\"1\" class=\"dataframe\">\n",
       "  <thead>\n",
       "    <tr style=\"text-align: right;\">\n",
       "      <th></th>\n",
       "      <th>num_orders</th>\n",
       "    </tr>\n",
       "    <tr>\n",
       "      <th>datetime</th>\n",
       "      <th></th>\n",
       "    </tr>\n",
       "  </thead>\n",
       "  <tbody>\n",
       "    <tr>\n",
       "      <th>2018-03-01 00:00:00</th>\n",
       "      <td>124</td>\n",
       "    </tr>\n",
       "    <tr>\n",
       "      <th>2018-03-01 01:00:00</th>\n",
       "      <td>85</td>\n",
       "    </tr>\n",
       "    <tr>\n",
       "      <th>2018-03-01 02:00:00</th>\n",
       "      <td>71</td>\n",
       "    </tr>\n",
       "    <tr>\n",
       "      <th>2018-03-01 03:00:00</th>\n",
       "      <td>66</td>\n",
       "    </tr>\n",
       "    <tr>\n",
       "      <th>2018-03-01 04:00:00</th>\n",
       "      <td>43</td>\n",
       "    </tr>\n",
       "    <tr>\n",
       "      <th>...</th>\n",
       "      <td>...</td>\n",
       "    </tr>\n",
       "    <tr>\n",
       "      <th>2018-08-31 19:00:00</th>\n",
       "      <td>136</td>\n",
       "    </tr>\n",
       "    <tr>\n",
       "      <th>2018-08-31 20:00:00</th>\n",
       "      <td>154</td>\n",
       "    </tr>\n",
       "    <tr>\n",
       "      <th>2018-08-31 21:00:00</th>\n",
       "      <td>159</td>\n",
       "    </tr>\n",
       "    <tr>\n",
       "      <th>2018-08-31 22:00:00</th>\n",
       "      <td>223</td>\n",
       "    </tr>\n",
       "    <tr>\n",
       "      <th>2018-08-31 23:00:00</th>\n",
       "      <td>205</td>\n",
       "    </tr>\n",
       "  </tbody>\n",
       "</table>\n",
       "<p>4416 rows × 1 columns</p>\n",
       "</div>"
      ],
      "text/plain": [
       "                     num_orders\n",
       "datetime                       \n",
       "2018-03-01 00:00:00         124\n",
       "2018-03-01 01:00:00          85\n",
       "2018-03-01 02:00:00          71\n",
       "2018-03-01 03:00:00          66\n",
       "2018-03-01 04:00:00          43\n",
       "...                         ...\n",
       "2018-08-31 19:00:00         136\n",
       "2018-08-31 20:00:00         154\n",
       "2018-08-31 21:00:00         159\n",
       "2018-08-31 22:00:00         223\n",
       "2018-08-31 23:00:00         205\n",
       "\n",
       "[4416 rows x 1 columns]"
      ]
     },
     "execution_count": 7,
     "metadata": {},
     "output_type": "execute_result"
    }
   ],
   "source": [
    "df"
   ]
  },
  {
   "cell_type": "markdown",
   "metadata": {},
   "source": [
    "Минимальное значение RSME при lag= 24, используем это значение параметра для дальнейшего исследования."
   ]
  },
  {
   "cell_type": "markdown",
   "metadata": {},
   "source": [
    " На этом этапе я убрал повторяющуюся ранее функцию make_features. А для выбора необходимого датафрейма обратился к элементу списка, соответствующему значению lag=12, т.е. data_temp[4]. Разделим данные на обучающую и тестовую выборки(доля тестовой по условию 10%)"
   ]
  },
  {
   "cell_type": "code",
   "execution_count": 8,
   "metadata": {
    "scrolled": true
   },
   "outputs": [
    {
     "name": "stdout",
     "output_type": "stream",
     "text": [
      "(3950, 29) (442, 29) (3950,) (442,)\n"
     ]
    }
   ],
   "source": [
    "train, test = train_test_split(data_temp[4], shuffle=False, test_size=0.1)\n",
    "train = train.dropna()\n",
    "    \n",
    "features_train = train.drop('num_orders',axis=1)\n",
    "features_test = test.drop('num_orders',axis=1)\n",
    "target_train = train['num_orders']\n",
    "target_test = test['num_orders']\n",
    "print(features_train.shape,features_test.shape,target_train.shape,target_test.shape)\n"
   ]
  },
  {
   "cell_type": "markdown",
   "metadata": {},
   "source": [
    "## Обучение"
   ]
  },
  {
   "cell_type": "markdown",
   "metadata": {},
   "source": [
    "Произведем обученине моделей. Для подбора параметров используем инструмент GridSearchCV.\n",
    "Параметры моделей заранее подобраны таким образом, чтобы время обучения было минимальным при рассчитанной минимальной RSME.\n",
    "\n",
    "Начинаем с метода <b>Дерево решений</b>:"
   ]
  },
  {
   "cell_type": "code",
   "execution_count": 9,
   "metadata": {},
   "outputs": [
    {
     "name": "stdout",
     "output_type": "stream",
     "text": [
      "Лучшая RMSE: 28.776013240838164 при параметрах {'max_depth': 15, 'min_samples_leaf': 27}\n"
     ]
    }
   ],
   "source": [
    "model_dt= DecisionTreeRegressor(random_state=12345)\n",
    "param_grid = {\n",
    "    \"max_depth\" : range(15,16),\n",
    "    \"min_samples_leaf\" : range(20,30)\n",
    "}\n",
    "gsearch = GridSearchCV(model_dt, param_grid = param_grid, scoring='neg_root_mean_squared_error', cv=TimeSeriesSplit(n_splits=5))\n",
    "dt_model = gsearch.fit(features_train,target_train)\n",
    "print(f'Лучшая RMSE: {-dt_model.best_score_} при параметрах {dt_model.best_params_}')"
   ]
  },
  {
   "cell_type": "markdown",
   "metadata": {},
   "source": [
    "<b>Случайный Лес:</b>"
   ]
  },
  {
   "cell_type": "code",
   "execution_count": 10,
   "metadata": {},
   "outputs": [
    {
     "name": "stdout",
     "output_type": "stream",
     "text": [
      "Лучшая RMSE: 25.341199962902714 при параметрах ,{'max_depth': 15, 'min_samples_leaf': 2}\n"
     ]
    }
   ],
   "source": [
    "model_rf= RandomForestRegressor(random_state=12345)\n",
    "param_grid = {\n",
    "    \"max_depth\" : range(15,16),\n",
    "    \"min_samples_leaf\" : range(2,3)\n",
    "}\n",
    "gsearch = GridSearchCV(model_rf, param_grid = param_grid, scoring='neg_root_mean_squared_error', cv=TimeSeriesSplit(n_splits=5))\n",
    "rf_model = gsearch.fit(features_train,target_train)\n",
    "print(f'Лучшая RMSE: {-rf_model.best_score_} при параметрах ,{rf_model.best_params_}')"
   ]
  },
  {
   "cell_type": "markdown",
   "metadata": {},
   "source": [
    "<b>Линейная регрессия:</b>"
   ]
  },
  {
   "cell_type": "code",
   "execution_count": 11,
   "metadata": {},
   "outputs": [
    {
     "name": "stdout",
     "output_type": "stream",
     "text": [
      "RMSE: 45.81094888906951\n"
     ]
    }
   ],
   "source": [
    "model_lr = LinearRegression() \n",
    "model_lr.fit(features_train, target_train)\n",
    " \n",
    "predictions = model_lr.predict(features_test)  \n",
    "print(\"RMSE:\",mean_squared_error(target_test,predictions,squared= False))"
   ]
  },
  {
   "cell_type": "markdown",
   "metadata": {},
   "source": [
    "<b>LightGBM:</b>"
   ]
  },
  {
   "cell_type": "code",
   "execution_count": 12,
   "metadata": {},
   "outputs": [
    {
     "name": "stdout",
     "output_type": "stream",
     "text": [
      "Лучшая RMSE: 24.87613969873619 при параметрах ,{'max_depth': 11, 'n_estimators': 56}\n"
     ]
    }
   ],
   "source": [
    "model_lgbm= LGBMRegressor(random_state=12345, n_jobs=2)\n",
    "\n",
    "param_grid = {\n",
    "    \"max_depth\" : range(11,12),\n",
    "    \"n_estimators\" : range(56,57)\n",
    "}\n",
    "\n",
    "gsearch = GridSearchCV(model_lgbm, param_grid = param_grid, scoring='neg_root_mean_squared_error', cv=TimeSeriesSplit(n_splits=5))\n",
    "lgb_model = gsearch.fit(features_train,target_train)\n",
    "print(f'Лучшая RMSE: {-lgb_model.best_score_} при параметрах ,{lgb_model.best_params_}')"
   ]
  },
  {
   "cell_type": "markdown",
   "metadata": {},
   "source": [
    "Cравним RSME, проведя кроссвалидацию на трейне по каждой из рассматриваемых моделей:"
   ]
  },
  {
   "cell_type": "code",
   "execution_count": 13,
   "metadata": {},
   "outputs": [
    {
     "name": "stdout",
     "output_type": "stream",
     "text": [
      "35.473571300220584 25.25233345532437 26.941338470233404 24.87613969873619\n"
     ]
    }
   ],
   "source": [
    "RSME_dt = -cross_val_score(model_dt, features_train, target_train, scoring='neg_root_mean_squared_error', cv=TimeSeriesSplit(n_splits=5)).mean()\n",
    "RSME_rf = -cross_val_score(model_rf, features_train, target_train, scoring='neg_root_mean_squared_error', cv=TimeSeriesSplit(n_splits=5)).mean()\n",
    "RSME_lr = -cross_val_score(model_lr, features_train, target_train, scoring='neg_root_mean_squared_error', cv=TimeSeriesSplit(n_splits=5)).mean()\n",
    "RSME_lgbm = -cross_val_score(lgb_model, features_train, target_train, scoring='neg_root_mean_squared_error', cv=TimeSeriesSplit(n_splits=5)).mean()\n",
    "print(RSME_dt,RSME_rf,RSME_lr,RSME_lgbm)"
   ]
  },
  {
   "cell_type": "markdown",
   "metadata": {},
   "source": [
    "Таким образом мы получили минимальную метрику RSME= 24.876 при обучении модели методом LightGBM."
   ]
  },
  {
   "cell_type": "markdown",
   "metadata": {},
   "source": [
    "## Тестирование\n",
    "\n",
    "Проведем финальные тесты, определим RSME на тестовых данных"
   ]
  },
  {
   "cell_type": "code",
   "execution_count": 14,
   "metadata": {},
   "outputs": [],
   "source": [
    "dt_model_test = dt_model.fit(features_train,target_train)\n",
    "dt_predictions = dt_model_test.predict(features_test)\n",
    "RSME_dt_test = mean_squared_error(target_test, dt_predictions,squared= False)"
   ]
  },
  {
   "cell_type": "code",
   "execution_count": 15,
   "metadata": {},
   "outputs": [],
   "source": [
    "rf_model_test = rf_model.fit(features_train,target_train)\n",
    "rf_predictions = rf_model_test.predict(features_test)\n",
    "RSME_rf_test = mean_squared_error(target_test, rf_predictions,squared= False)"
   ]
  },
  {
   "cell_type": "code",
   "execution_count": 16,
   "metadata": {},
   "outputs": [],
   "source": [
    "lr_model_test = model_lr.fit(features_train,target_train)\n",
    "lr_predictions = lr_model_test.predict(features_test)\n",
    "RSME_lr_test = mean_squared_error(target_test, lr_predictions,squared= False)"
   ]
  },
  {
   "cell_type": "code",
   "execution_count": 17,
   "metadata": {},
   "outputs": [],
   "source": [
    "lgb_model_test = lgb_model.fit(features_train,target_train)\n",
    "lgb_predictions = lgb_model_test.predict(features_test)\n",
    "RSME_lgb_test = mean_squared_error(target_test, lgb_predictions,squared= False)"
   ]
  },
  {
   "cell_type": "code",
   "execution_count": 18,
   "metadata": {
    "scrolled": true
   },
   "outputs": [
    {
     "name": "stdout",
     "output_type": "stream",
     "text": [
      "56.188282345206964 43.11046723577575 45.81094888906951 41.65291089352744\n"
     ]
    }
   ],
   "source": [
    "print(RSME_dt_test,RSME_rf_test,RSME_lr_test,RSME_lgb_test)"
   ]
  },
  {
   "cell_type": "markdown",
   "metadata": {},
   "source": [
    "Визуализируем предскания по всем рассмотренным моделям."
   ]
  },
  {
   "cell_type": "code",
   "execution_count": 19,
   "metadata": {},
   "outputs": [
    {
     "data": {
      "image/png": "[encoded data removed]",
      "text/plain": [
       "<Figure size 720x432 with 1 Axes>"
      ]
     },
     "metadata": {
      "needs_background": "light"
     },
     "output_type": "display_data"
    },
    {
     "data": {
      "image/png": "[encoded data removed]",
      "text/plain": [
       "<Figure size 720x432 with 1 Axes>"
      ]
     },
     "metadata": {
      "needs_background": "light"
     },
     "output_type": "display_data"
    },
    {
     "data": {
      "image/png": "[encoded data removed]",
      "text/plain": [
       "<Figure size 720x432 with 1 Axes>"
      ]
     },
     "metadata": {
      "needs_background": "light"
     },
     "output_type": "display_data"
    },
    {
     "data": {
      "image/png": "[encoded data removed]",
      "text/plain": [
       "<Figure size 720x432 with 1 Axes>"
      ]
     },
     "metadata": {
      "needs_background": "light"
     },
     "output_type": "display_data"
    }
   ],
   "source": [
    "prediction_list = [dt_predictions,rf_predictions,lr_predictions,lgb_predictions]\n",
    "model_list = ['DecisionTreeRegressor','RandomForestRegressor','LinearRegression','LGBMRegressor']\n",
    "for pred in range(4):\n",
    "    plt.figure(figsize=(10, 6)) \n",
    "    plt.scatter(y=target_test, x=target_test.index, label='Real data')\n",
    "    plt.scatter(y=prediction_list[pred], x=target_test.index, label='Predictions')\n",
    "    plt.legend(loc='upper right')\n",
    "    plt.title(model_list[pred])\n",
    "    plt.show()"
   ]
  },
  {
   "cell_type": "markdown",
   "metadata": {},
   "source": [
    "## Финальный вывод"
   ]
  },
  {
   "cell_type": "markdown",
   "metadata": {},
   "source": [
    "В ходе проекта были обработаны данные о заказах такси. Для прогноза количества заказов такси были построены 4 модели предскания.\n",
    "Самой эффективной моделью, которая показала минимальную метрику RSME(41,65) является модель градиентного бустинга библиотеки LightGBM, о чем свидетелствует финальный график. Требование о значении метрики RMSE (не более 48) выполнено."
   ]
  },
  {
   "cell_type": "code",
   "execution_count": null,
   "metadata": {},
   "outputs": [],
   "source": []
  }
 ],
 "metadata": {
  "ExecuteTimeLog": [
   {
    "duration": 1294,
    "start_time": "2022-05-29T19:42:38.941Z"
   },
   {
    "duration": 392,
    "start_time": "2022-05-29T19:42:42.417Z"
   },
   {
    "duration": 99,
    "start_time": "2022-05-29T19:43:18.714Z"
   },
   {
    "duration": 132,
    "start_time": "2022-05-29T19:43:59.246Z"
   },
   {
    "duration": 95,
    "start_time": "2022-05-29T19:44:46.809Z"
   },
   {
    "duration": 94,
    "start_time": "2022-05-29T19:45:47.223Z"
   },
   {
    "duration": 79,
    "start_time": "2022-05-29T19:46:08.624Z"
   },
   {
    "duration": 70,
    "start_time": "2022-05-29T19:46:32.264Z"
   },
   {
    "duration": 82,
    "start_time": "2022-05-29T19:46:34.122Z"
   },
   {
    "duration": 4,
    "start_time": "2022-05-29T19:46:37.917Z"
   },
   {
    "duration": 98,
    "start_time": "2022-05-29T19:46:37.924Z"
   },
   {
    "duration": 80,
    "start_time": "2022-05-29T19:46:43.846Z"
   },
   {
    "duration": 67,
    "start_time": "2022-05-29T19:47:35.778Z"
   },
   {
    "duration": 73,
    "start_time": "2022-05-29T19:47:37.367Z"
   },
   {
    "duration": 79,
    "start_time": "2022-05-29T19:47:40.846Z"
   },
   {
    "duration": 61,
    "start_time": "2022-05-29T19:47:54.783Z"
   },
   {
    "duration": 67,
    "start_time": "2022-05-29T19:47:58.512Z"
   },
   {
    "duration": 55,
    "start_time": "2022-05-30T03:28:16.916Z"
   },
   {
    "duration": 1333,
    "start_time": "2022-05-30T03:28:24.233Z"
   },
   {
    "duration": 179,
    "start_time": "2022-05-30T03:28:25.568Z"
   },
   {
    "duration": 80,
    "start_time": "2022-05-30T03:28:29.123Z"
   },
   {
    "duration": 55,
    "start_time": "2022-05-30T03:29:32.948Z"
   },
   {
    "duration": 53,
    "start_time": "2022-05-30T03:31:00.713Z"
   },
   {
    "duration": 59,
    "start_time": "2022-05-30T03:31:30.886Z"
   },
   {
    "duration": 51,
    "start_time": "2022-05-30T03:31:49.954Z"
   },
   {
    "duration": 59,
    "start_time": "2022-05-30T03:32:08.524Z"
   },
   {
    "duration": 2,
    "start_time": "2022-05-30T03:37:36.686Z"
   },
   {
    "duration": 51,
    "start_time": "2022-05-30T03:37:37.223Z"
   },
   {
    "duration": 36,
    "start_time": "2022-05-30T03:37:37.972Z"
   },
   {
    "duration": 276,
    "start_time": "2022-05-30T03:44:13.586Z"
   },
   {
    "duration": 340,
    "start_time": "2022-05-30T03:44:44.154Z"
   },
   {
    "duration": 963,
    "start_time": "2022-05-30T03:56:08.632Z"
   },
   {
    "duration": 616,
    "start_time": "2022-05-30T03:56:24.003Z"
   },
   {
    "duration": 699,
    "start_time": "2022-05-30T03:56:30.116Z"
   },
   {
    "duration": 294,
    "start_time": "2022-05-30T03:56:53.524Z"
   },
   {
    "duration": 400,
    "start_time": "2022-05-30T03:57:18.068Z"
   },
   {
    "duration": 611,
    "start_time": "2022-05-30T03:57:38.380Z"
   },
   {
    "duration": 761,
    "start_time": "2022-05-30T03:57:46.854Z"
   },
   {
    "duration": 3,
    "start_time": "2022-05-30T04:16:30.441Z"
   },
   {
    "duration": 65,
    "start_time": "2022-05-30T04:16:30.448Z"
   },
   {
    "duration": 38,
    "start_time": "2022-05-30T04:16:30.515Z"
   },
   {
    "duration": 686,
    "start_time": "2022-05-30T04:16:30.632Z"
   },
   {
    "duration": 389,
    "start_time": "2022-05-30T04:16:31.320Z"
   },
   {
    "duration": 14,
    "start_time": "2022-05-30T04:16:46.513Z"
   },
   {
    "duration": 206,
    "start_time": "2022-05-30T04:16:54.429Z"
   },
   {
    "duration": 3,
    "start_time": "2022-05-30T04:17:32.310Z"
   },
   {
    "duration": 80,
    "start_time": "2022-05-30T04:17:36.554Z"
   },
   {
    "duration": 13,
    "start_time": "2022-05-30T04:17:56.540Z"
   },
   {
    "duration": 64,
    "start_time": "2022-05-30T17:50:16.646Z"
   },
   {
    "duration": 1855,
    "start_time": "2022-05-30T17:50:21.502Z"
   },
   {
    "duration": 133,
    "start_time": "2022-05-30T17:50:23.359Z"
   },
   {
    "duration": 109,
    "start_time": "2022-05-30T17:50:23.494Z"
   },
   {
    "duration": 794,
    "start_time": "2022-05-30T17:50:23.605Z"
   },
   {
    "duration": 614,
    "start_time": "2022-05-30T17:50:29.017Z"
   },
   {
    "duration": 1065,
    "start_time": "2022-05-30T17:51:19.768Z"
   },
   {
    "duration": 1110,
    "start_time": "2022-05-30T17:51:49.817Z"
   },
   {
    "duration": 931,
    "start_time": "2022-05-30T17:51:56.504Z"
   },
   {
    "duration": 1237,
    "start_time": "2022-05-30T17:52:08.652Z"
   },
   {
    "duration": 63,
    "start_time": "2022-05-30T17:52:09.891Z"
   },
   {
    "duration": 118,
    "start_time": "2022-05-30T17:52:09.956Z"
   },
   {
    "duration": 795,
    "start_time": "2022-05-30T17:52:10.076Z"
   },
   {
    "duration": 560,
    "start_time": "2022-05-30T17:52:10.873Z"
   },
   {
    "duration": 1190,
    "start_time": "2022-05-30T17:53:44.336Z"
   },
   {
    "duration": 1189,
    "start_time": "2022-05-30T17:53:51.147Z"
   },
   {
    "duration": 56,
    "start_time": "2022-05-30T17:53:52.338Z"
   },
   {
    "duration": 113,
    "start_time": "2022-05-30T17:53:52.395Z"
   },
   {
    "duration": 853,
    "start_time": "2022-05-30T17:53:52.510Z"
   },
   {
    "duration": 278,
    "start_time": "2022-05-30T17:53:53.365Z"
   },
   {
    "duration": 117,
    "start_time": "2022-05-30T17:56:54.238Z"
   },
   {
    "duration": 10,
    "start_time": "2022-05-30T18:01:11.036Z"
   },
   {
    "duration": 4,
    "start_time": "2022-05-30T18:01:20.349Z"
   },
   {
    "duration": 4,
    "start_time": "2022-05-30T18:01:24.204Z"
   },
   {
    "duration": 15,
    "start_time": "2022-05-30T18:01:31.706Z"
   },
   {
    "duration": 44,
    "start_time": "2022-05-30T18:01:46.536Z"
   },
   {
    "duration": 62,
    "start_time": "2022-05-30T18:02:01.953Z"
   },
   {
    "duration": 18,
    "start_time": "2022-05-30T18:03:46.470Z"
   },
   {
    "duration": 25,
    "start_time": "2022-05-30T18:05:53.790Z"
   },
   {
    "duration": 26,
    "start_time": "2022-05-30T18:06:02.341Z"
   },
   {
    "duration": 34,
    "start_time": "2022-05-30T18:06:30.954Z"
   },
   {
    "duration": 20,
    "start_time": "2022-05-30T18:06:42.532Z"
   },
   {
    "duration": 47,
    "start_time": "2022-05-30T18:07:13.626Z"
   },
   {
    "duration": 11,
    "start_time": "2022-05-30T18:07:37.740Z"
   },
   {
    "duration": 35,
    "start_time": "2022-05-30T18:08:06.495Z"
   },
   {
    "duration": 16,
    "start_time": "2022-05-30T18:08:13.986Z"
   },
   {
    "duration": 6,
    "start_time": "2022-05-30T18:08:30.519Z"
   },
   {
    "duration": 115,
    "start_time": "2022-05-30T18:08:35.449Z"
   },
   {
    "duration": 12674,
    "start_time": "2022-05-30T18:09:03.041Z"
   },
   {
    "duration": 24119,
    "start_time": "2022-05-30T18:09:32.082Z"
   },
   {
    "duration": 531,
    "start_time": "2022-05-30T18:10:19.836Z"
   },
   {
    "duration": 0,
    "start_time": "2022-05-30T18:18:00.376Z"
   },
   {
    "duration": 1293,
    "start_time": "2022-05-30T18:20:04.498Z"
   },
   {
    "duration": 63,
    "start_time": "2022-05-30T18:20:05.793Z"
   },
   {
    "duration": 42,
    "start_time": "2022-05-30T18:20:05.857Z"
   },
   {
    "duration": 786,
    "start_time": "2022-05-30T18:20:05.901Z"
   },
   {
    "duration": 565,
    "start_time": "2022-05-30T18:20:06.689Z"
   },
   {
    "duration": 16,
    "start_time": "2022-05-30T18:20:07.327Z"
   },
   {
    "duration": 99,
    "start_time": "2022-05-30T18:20:07.345Z"
   },
   {
    "duration": 558,
    "start_time": "2022-05-30T18:20:07.446Z"
   },
   {
    "duration": 15934,
    "start_time": "2022-05-30T18:20:08.006Z"
   },
   {
    "duration": 254,
    "start_time": "2022-05-30T18:25:58.870Z"
   },
   {
    "duration": 13,
    "start_time": "2022-05-30T18:26:18.360Z"
   },
   {
    "duration": 11,
    "start_time": "2022-05-30T18:28:11.091Z"
   },
   {
    "duration": 4,
    "start_time": "2022-05-30T18:28:39.842Z"
   },
   {
    "duration": 19480,
    "start_time": "2022-05-30T18:28:44.843Z"
   },
   {
    "duration": 11,
    "start_time": "2022-05-30T18:30:59.738Z"
   },
   {
    "duration": 283,
    "start_time": "2022-05-30T18:31:19.938Z"
   },
   {
    "duration": 7021,
    "start_time": "2022-05-30T18:31:25.846Z"
   },
   {
    "duration": 9111,
    "start_time": "2022-05-30T18:33:50.037Z"
   },
   {
    "duration": 51823,
    "start_time": "2022-05-30T18:34:07.800Z"
   },
   {
    "duration": 20368,
    "start_time": "2022-05-30T18:36:07.079Z"
   },
   {
    "duration": 56318,
    "start_time": "2022-05-30T18:36:48.647Z"
   },
   {
    "duration": 12676,
    "start_time": "2022-05-30T18:38:09.372Z"
   },
   {
    "duration": 46240,
    "start_time": "2022-05-30T18:38:45.094Z"
   },
   {
    "duration": 378,
    "start_time": "2022-05-30T18:39:43.567Z"
   },
   {
    "duration": 1259,
    "start_time": "2022-05-30T18:41:15.378Z"
   },
   {
    "duration": 59,
    "start_time": "2022-05-30T18:41:16.639Z"
   },
   {
    "duration": 56,
    "start_time": "2022-05-30T18:41:16.700Z"
   },
   {
    "duration": 816,
    "start_time": "2022-05-30T18:41:16.759Z"
   },
   {
    "duration": 555,
    "start_time": "2022-05-30T18:41:17.578Z"
   },
   {
    "duration": 90,
    "start_time": "2022-05-30T18:41:18.136Z"
   },
   {
    "duration": 37,
    "start_time": "2022-05-30T18:41:18.228Z"
   },
   {
    "duration": 568,
    "start_time": "2022-05-30T18:41:18.266Z"
   },
   {
    "duration": 7986,
    "start_time": "2022-05-30T18:41:18.836Z"
   },
   {
    "duration": 22,
    "start_time": "2022-05-30T18:41:26.824Z"
   },
   {
    "duration": 586,
    "start_time": "2022-05-30T18:41:26.848Z"
   },
   {
    "duration": 21403,
    "start_time": "2022-05-30T18:41:27.435Z"
   },
   {
    "duration": 132,
    "start_time": "2022-05-30T18:48:02.431Z"
   },
   {
    "duration": 574,
    "start_time": "2022-05-30T18:48:07.675Z"
   },
   {
    "duration": 535,
    "start_time": "2022-05-30T18:48:42.349Z"
   },
   {
    "duration": 8251,
    "start_time": "2022-05-30T18:48:53.656Z"
   },
   {
    "duration": 15,
    "start_time": "2022-05-30T18:49:02.128Z"
   },
   {
    "duration": 10,
    "start_time": "2022-05-30T18:49:10.071Z"
   },
   {
    "duration": 12,
    "start_time": "2022-05-30T18:49:15.009Z"
   },
   {
    "duration": 10,
    "start_time": "2022-05-30T18:49:18.270Z"
   },
   {
    "duration": 370,
    "start_time": "2022-05-30T18:49:25.679Z"
   },
   {
    "duration": 3,
    "start_time": "2022-05-30T18:49:31.468Z"
   },
   {
    "duration": 1255,
    "start_time": "2022-05-30T18:54:52.940Z"
   },
   {
    "duration": 60,
    "start_time": "2022-05-30T18:54:54.196Z"
   },
   {
    "duration": 40,
    "start_time": "2022-05-30T18:54:54.257Z"
   },
   {
    "duration": 755,
    "start_time": "2022-05-30T18:54:54.300Z"
   },
   {
    "duration": 277,
    "start_time": "2022-05-30T18:54:55.057Z"
   },
   {
    "duration": 87,
    "start_time": "2022-05-30T18:54:55.336Z"
   },
   {
    "duration": 127,
    "start_time": "2022-05-30T18:54:55.425Z"
   },
   {
    "duration": 582,
    "start_time": "2022-05-30T18:54:55.553Z"
   },
   {
    "duration": 9045,
    "start_time": "2022-05-30T18:54:56.139Z"
   },
   {
    "duration": 138,
    "start_time": "2022-05-30T18:55:05.186Z"
   },
   {
    "duration": 540,
    "start_time": "2022-05-30T18:55:05.330Z"
   },
   {
    "duration": 24633,
    "start_time": "2022-05-30T18:55:05.925Z"
   },
   {
    "duration": 5,
    "start_time": "2022-05-30T18:55:30.559Z"
   },
   {
    "duration": 0,
    "start_time": "2022-05-30T18:55:30.565Z"
   },
   {
    "duration": 0,
    "start_time": "2022-05-30T18:55:30.566Z"
   },
   {
    "duration": 0,
    "start_time": "2022-05-30T18:55:30.567Z"
   },
   {
    "duration": 0,
    "start_time": "2022-05-30T18:55:30.568Z"
   },
   {
    "duration": 0,
    "start_time": "2022-05-30T18:55:30.569Z"
   },
   {
    "duration": 577,
    "start_time": "2022-05-30T18:56:38.112Z"
   },
   {
    "duration": 1333,
    "start_time": "2022-05-30T18:56:48.785Z"
   },
   {
    "duration": 70,
    "start_time": "2022-05-30T18:56:50.124Z"
   },
   {
    "duration": 45,
    "start_time": "2022-05-30T18:56:50.195Z"
   },
   {
    "duration": 741,
    "start_time": "2022-05-30T18:56:50.242Z"
   },
   {
    "duration": 260,
    "start_time": "2022-05-30T18:56:50.985Z"
   },
   {
    "duration": 8,
    "start_time": "2022-05-30T18:56:51.331Z"
   },
   {
    "duration": 120,
    "start_time": "2022-05-30T18:56:51.341Z"
   },
   {
    "duration": 596,
    "start_time": "2022-05-30T18:56:51.463Z"
   },
   {
    "duration": 9478,
    "start_time": "2022-05-30T18:56:52.060Z"
   },
   {
    "duration": 192,
    "start_time": "2022-05-30T18:57:01.542Z"
   },
   {
    "duration": 538,
    "start_time": "2022-05-30T18:57:01.736Z"
   },
   {
    "duration": 24912,
    "start_time": "2022-05-30T18:57:02.324Z"
   },
   {
    "duration": 571,
    "start_time": "2022-05-30T18:57:27.237Z"
   },
   {
    "duration": 8931,
    "start_time": "2022-05-30T18:57:27.810Z"
   },
   {
    "duration": 10,
    "start_time": "2022-05-30T18:57:36.743Z"
   },
   {
    "duration": 539,
    "start_time": "2022-05-30T18:57:36.824Z"
   },
   {
    "duration": 3,
    "start_time": "2022-05-30T18:57:37.365Z"
   },
   {
    "duration": 21,
    "start_time": "2022-05-30T19:13:57.865Z"
   },
   {
    "duration": 3727,
    "start_time": "2022-05-30T19:15:47.744Z"
   },
   {
    "duration": 0,
    "start_time": "2022-05-30T19:20:59.697Z"
   },
   {
    "duration": 24618,
    "start_time": "2022-05-30T19:21:04.550Z"
   },
   {
    "duration": 34536,
    "start_time": "2022-05-30T19:22:04.414Z"
   },
   {
    "duration": 212131,
    "start_time": "2022-05-30T19:23:02.199Z"
   },
   {
    "duration": 687,
    "start_time": "2022-05-30T19:27:01.871Z"
   },
   {
    "duration": 1340,
    "start_time": "2022-05-30T19:27:15.473Z"
   },
   {
    "duration": 71,
    "start_time": "2022-05-30T19:27:16.815Z"
   },
   {
    "duration": 45,
    "start_time": "2022-05-30T19:27:16.887Z"
   },
   {
    "duration": 765,
    "start_time": "2022-05-30T19:27:16.934Z"
   },
   {
    "duration": 440,
    "start_time": "2022-05-30T19:27:17.701Z"
   },
   {
    "duration": 76,
    "start_time": "2022-05-30T19:27:18.148Z"
   },
   {
    "duration": 103,
    "start_time": "2022-05-30T19:27:18.227Z"
   },
   {
    "duration": 555,
    "start_time": "2022-05-30T19:27:18.332Z"
   },
   {
    "duration": 9261,
    "start_time": "2022-05-30T19:27:18.889Z"
   },
   {
    "duration": 170,
    "start_time": "2022-05-30T19:27:28.152Z"
   },
   {
    "duration": 699,
    "start_time": "2022-05-30T19:27:28.330Z"
   },
   {
    "duration": 6535,
    "start_time": "2022-05-30T19:27:29.037Z"
   },
   {
    "duration": 631,
    "start_time": "2022-05-30T19:27:35.573Z"
   },
   {
    "duration": 9108,
    "start_time": "2022-05-30T19:27:36.205Z"
   },
   {
    "duration": 133,
    "start_time": "2022-05-30T19:27:45.316Z"
   },
   {
    "duration": 700,
    "start_time": "2022-05-30T19:27:45.528Z"
   },
   {
    "duration": 6,
    "start_time": "2022-05-30T19:27:46.230Z"
   },
   {
    "duration": 1862,
    "start_time": "2022-05-31T16:23:22.126Z"
   },
   {
    "duration": 126,
    "start_time": "2022-05-31T16:23:23.991Z"
   },
   {
    "duration": 43,
    "start_time": "2022-05-31T16:23:24.118Z"
   },
   {
    "duration": 867,
    "start_time": "2022-05-31T16:23:31.450Z"
   },
   {
    "duration": 642,
    "start_time": "2022-05-31T16:24:29.425Z"
   },
   {
    "duration": 759,
    "start_time": "2022-05-31T16:24:54.187Z"
   },
   {
    "duration": 672,
    "start_time": "2022-05-31T16:25:42.757Z"
   },
   {
    "duration": 641,
    "start_time": "2022-05-31T16:32:55.741Z"
   },
   {
    "duration": 558,
    "start_time": "2022-05-31T16:33:13.714Z"
   },
   {
    "duration": 664,
    "start_time": "2022-05-31T16:33:23.497Z"
   },
   {
    "duration": 476,
    "start_time": "2022-05-31T16:33:31.093Z"
   },
   {
    "duration": 610,
    "start_time": "2022-05-31T16:33:40.469Z"
   },
   {
    "duration": 459,
    "start_time": "2022-05-31T16:33:53.786Z"
   },
   {
    "duration": 759,
    "start_time": "2022-05-31T16:34:10.020Z"
   },
   {
    "duration": 42,
    "start_time": "2022-05-31T17:58:21.722Z"
   },
   {
    "duration": 21,
    "start_time": "2022-05-31T17:58:29.266Z"
   },
   {
    "duration": 21,
    "start_time": "2022-05-31T17:59:24.379Z"
   },
   {
    "duration": 21,
    "start_time": "2022-05-31T17:59:40.604Z"
   },
   {
    "duration": 21,
    "start_time": "2022-05-31T17:59:47.689Z"
   },
   {
    "duration": 36,
    "start_time": "2022-05-31T18:06:50.359Z"
   },
   {
    "duration": 32,
    "start_time": "2022-05-31T18:07:12.763Z"
   },
   {
    "duration": 3,
    "start_time": "2022-05-31T18:08:14.903Z"
   },
   {
    "duration": 5,
    "start_time": "2022-05-31T18:37:34.506Z"
   },
   {
    "duration": 70,
    "start_time": "2022-05-31T18:37:34.515Z"
   },
   {
    "duration": 58,
    "start_time": "2022-05-31T18:37:34.587Z"
   },
   {
    "duration": 666,
    "start_time": "2022-05-31T18:37:34.647Z"
   },
   {
    "duration": 27,
    "start_time": "2022-05-31T18:37:45.229Z"
   },
   {
    "duration": 1451,
    "start_time": "2022-05-31T18:39:43.881Z"
   },
   {
    "duration": 7129,
    "start_time": "2022-05-31T18:41:27.203Z"
   },
   {
    "duration": 7079,
    "start_time": "2022-05-31T18:41:59.751Z"
   },
   {
    "duration": 3844,
    "start_time": "2022-05-31T18:42:17.489Z"
   },
   {
    "duration": 3046,
    "start_time": "2022-05-31T18:43:59.285Z"
   },
   {
    "duration": 34,
    "start_time": "2022-05-31T18:51:51.371Z"
   },
   {
    "duration": 3718,
    "start_time": "2022-05-31T18:51:59.514Z"
   },
   {
    "duration": 26,
    "start_time": "2022-05-31T18:53:02.797Z"
   },
   {
    "duration": 14,
    "start_time": "2022-05-31T18:54:40.441Z"
   },
   {
    "duration": 6,
    "start_time": "2022-05-31T18:56:42.860Z"
   },
   {
    "duration": 14,
    "start_time": "2022-05-31T18:56:49.626Z"
   },
   {
    "duration": 13,
    "start_time": "2022-05-31T18:58:46.364Z"
   },
   {
    "duration": 3605,
    "start_time": "2022-05-31T18:58:52.826Z"
   },
   {
    "duration": 2674,
    "start_time": "2022-05-31T18:59:22.675Z"
   },
   {
    "duration": 1369,
    "start_time": "2022-05-31T18:59:58.139Z"
   },
   {
    "duration": 57,
    "start_time": "2022-05-31T18:59:59.510Z"
   },
   {
    "duration": 39,
    "start_time": "2022-05-31T18:59:59.569Z"
   },
   {
    "duration": 695,
    "start_time": "2022-05-31T18:59:59.610Z"
   },
   {
    "duration": 3,
    "start_time": "2022-05-31T19:00:00.307Z"
   },
   {
    "duration": 1556,
    "start_time": "2022-05-31T19:00:00.312Z"
   },
   {
    "duration": 0,
    "start_time": "2022-05-31T19:00:01.870Z"
   },
   {
    "duration": 0,
    "start_time": "2022-05-31T19:00:01.872Z"
   },
   {
    "duration": 0,
    "start_time": "2022-05-31T19:00:01.873Z"
   },
   {
    "duration": 0,
    "start_time": "2022-05-31T19:00:01.875Z"
   },
   {
    "duration": 0,
    "start_time": "2022-05-31T19:00:01.876Z"
   },
   {
    "duration": 0,
    "start_time": "2022-05-31T19:00:01.877Z"
   },
   {
    "duration": 0,
    "start_time": "2022-05-31T19:00:01.878Z"
   },
   {
    "duration": 0,
    "start_time": "2022-05-31T19:00:01.879Z"
   },
   {
    "duration": 0,
    "start_time": "2022-05-31T19:00:01.880Z"
   },
   {
    "duration": 0,
    "start_time": "2022-05-31T19:00:01.881Z"
   },
   {
    "duration": 0,
    "start_time": "2022-05-31T19:00:01.882Z"
   },
   {
    "duration": 0,
    "start_time": "2022-05-31T19:00:01.883Z"
   },
   {
    "duration": 2710,
    "start_time": "2022-05-31T19:00:36.418Z"
   },
   {
    "duration": 3619,
    "start_time": "2022-05-31T19:01:50.837Z"
   },
   {
    "duration": 5096,
    "start_time": "2022-05-31T19:10:36.736Z"
   },
   {
    "duration": 1336,
    "start_time": "2022-05-31T19:12:33.305Z"
   },
   {
    "duration": 61,
    "start_time": "2022-05-31T19:12:34.643Z"
   },
   {
    "duration": 41,
    "start_time": "2022-05-31T19:12:34.705Z"
   },
   {
    "duration": 679,
    "start_time": "2022-05-31T19:12:34.749Z"
   },
   {
    "duration": 3,
    "start_time": "2022-05-31T19:12:35.430Z"
   },
   {
    "duration": 1492,
    "start_time": "2022-05-31T19:12:35.435Z"
   },
   {
    "duration": 0,
    "start_time": "2022-05-31T19:12:36.929Z"
   },
   {
    "duration": 0,
    "start_time": "2022-05-31T19:12:36.930Z"
   },
   {
    "duration": 0,
    "start_time": "2022-05-31T19:12:36.930Z"
   },
   {
    "duration": 0,
    "start_time": "2022-05-31T19:12:36.931Z"
   },
   {
    "duration": 0,
    "start_time": "2022-05-31T19:12:36.932Z"
   },
   {
    "duration": 0,
    "start_time": "2022-05-31T19:12:36.932Z"
   },
   {
    "duration": 0,
    "start_time": "2022-05-31T19:12:36.933Z"
   },
   {
    "duration": 0,
    "start_time": "2022-05-31T19:12:36.934Z"
   },
   {
    "duration": 0,
    "start_time": "2022-05-31T19:12:36.936Z"
   },
   {
    "duration": 0,
    "start_time": "2022-05-31T19:12:36.937Z"
   },
   {
    "duration": 0,
    "start_time": "2022-05-31T19:12:36.938Z"
   },
   {
    "duration": 0,
    "start_time": "2022-05-31T19:12:36.939Z"
   },
   {
    "duration": 4347,
    "start_time": "2022-05-31T19:13:25.004Z"
   },
   {
    "duration": 4624,
    "start_time": "2022-05-31T19:13:33.228Z"
   },
   {
    "duration": 3386,
    "start_time": "2022-05-31T19:14:18.667Z"
   },
   {
    "duration": 1225,
    "start_time": "2022-05-31T19:14:30.480Z"
   },
   {
    "duration": 57,
    "start_time": "2022-05-31T19:14:31.707Z"
   },
   {
    "duration": 42,
    "start_time": "2022-05-31T19:14:31.766Z"
   },
   {
    "duration": 731,
    "start_time": "2022-05-31T19:14:31.810Z"
   },
   {
    "duration": 4,
    "start_time": "2022-05-31T19:14:32.543Z"
   },
   {
    "duration": 2294,
    "start_time": "2022-05-31T19:14:32.548Z"
   },
   {
    "duration": 4,
    "start_time": "2022-05-31T19:14:34.844Z"
   },
   {
    "duration": 25,
    "start_time": "2022-05-31T19:14:34.849Z"
   },
   {
    "duration": 607,
    "start_time": "2022-05-31T19:14:34.876Z"
   },
   {
    "duration": 8624,
    "start_time": "2022-05-31T19:14:35.485Z"
   },
   {
    "duration": 217,
    "start_time": "2022-05-31T19:14:44.111Z"
   },
   {
    "duration": 633,
    "start_time": "2022-05-31T19:14:44.331Z"
   },
   {
    "duration": 6484,
    "start_time": "2022-05-31T19:14:44.967Z"
   },
   {
    "duration": 649,
    "start_time": "2022-05-31T19:14:51.453Z"
   },
   {
    "duration": 8934,
    "start_time": "2022-05-31T19:14:52.104Z"
   },
   {
    "duration": 94,
    "start_time": "2022-05-31T19:15:01.040Z"
   },
   {
    "duration": 731,
    "start_time": "2022-05-31T19:15:01.136Z"
   },
   {
    "duration": 4,
    "start_time": "2022-05-31T19:15:01.870Z"
   },
   {
    "duration": 4280,
    "start_time": "2022-05-31T19:15:16.080Z"
   },
   {
    "duration": 1405,
    "start_time": "2022-05-31T19:15:48.719Z"
   },
   {
    "duration": 61,
    "start_time": "2022-05-31T19:15:50.125Z"
   },
   {
    "duration": 42,
    "start_time": "2022-05-31T19:15:50.188Z"
   },
   {
    "duration": 697,
    "start_time": "2022-05-31T19:15:50.232Z"
   },
   {
    "duration": 3,
    "start_time": "2022-05-31T19:15:50.931Z"
   },
   {
    "duration": 1614,
    "start_time": "2022-05-31T19:15:50.935Z"
   },
   {
    "duration": 3,
    "start_time": "2022-05-31T19:15:52.551Z"
   },
   {
    "duration": 23,
    "start_time": "2022-05-31T19:15:52.556Z"
   },
   {
    "duration": 576,
    "start_time": "2022-05-31T19:15:52.580Z"
   },
   {
    "duration": 8710,
    "start_time": "2022-05-31T19:15:53.159Z"
   },
   {
    "duration": 153,
    "start_time": "2022-05-31T19:16:01.872Z"
   },
   {
    "duration": 746,
    "start_time": "2022-05-31T19:16:02.033Z"
   },
   {
    "duration": 6511,
    "start_time": "2022-05-31T19:16:02.836Z"
   },
   {
    "duration": 623,
    "start_time": "2022-05-31T19:16:09.349Z"
   },
   {
    "duration": 8763,
    "start_time": "2022-05-31T19:16:09.974Z"
   },
   {
    "duration": 191,
    "start_time": "2022-05-31T19:16:18.738Z"
   },
   {
    "duration": 704,
    "start_time": "2022-05-31T19:16:18.931Z"
   },
   {
    "duration": 4,
    "start_time": "2022-05-31T19:16:19.637Z"
   },
   {
    "duration": 4329,
    "start_time": "2022-05-31T19:16:41.515Z"
   },
   {
    "duration": 4077,
    "start_time": "2022-05-31T19:16:55.270Z"
   },
   {
    "duration": 35,
    "start_time": "2022-05-31T19:17:10.135Z"
   },
   {
    "duration": 1346,
    "start_time": "2022-05-31T19:17:20.734Z"
   },
   {
    "duration": 60,
    "start_time": "2022-05-31T19:17:22.082Z"
   },
   {
    "duration": 45,
    "start_time": "2022-05-31T19:17:22.144Z"
   },
   {
    "duration": 759,
    "start_time": "2022-05-31T19:17:22.191Z"
   },
   {
    "duration": 11,
    "start_time": "2022-05-31T19:17:22.952Z"
   },
   {
    "duration": 2381,
    "start_time": "2022-05-31T19:17:22.965Z"
   },
   {
    "duration": 4,
    "start_time": "2022-05-31T19:17:25.347Z"
   },
   {
    "duration": 26,
    "start_time": "2022-05-31T19:17:25.353Z"
   },
   {
    "duration": 578,
    "start_time": "2022-05-31T19:17:25.381Z"
   },
   {
    "duration": 8684,
    "start_time": "2022-05-31T19:17:25.961Z"
   },
   {
    "duration": 181,
    "start_time": "2022-05-31T19:17:34.647Z"
   },
   {
    "duration": 610,
    "start_time": "2022-05-31T19:17:34.830Z"
   },
   {
    "duration": 6214,
    "start_time": "2022-05-31T19:17:35.442Z"
   },
   {
    "duration": 601,
    "start_time": "2022-05-31T19:17:41.659Z"
   },
   {
    "duration": 8922,
    "start_time": "2022-05-31T19:17:42.262Z"
   },
   {
    "duration": 142,
    "start_time": "2022-05-31T19:17:51.186Z"
   },
   {
    "duration": 618,
    "start_time": "2022-05-31T19:17:51.330Z"
   },
   {
    "duration": 3,
    "start_time": "2022-05-31T19:17:51.950Z"
   },
   {
    "duration": 2432,
    "start_time": "2022-05-31T19:18:22.909Z"
   },
   {
    "duration": 1365,
    "start_time": "2022-05-31T19:18:34.236Z"
   },
   {
    "duration": 61,
    "start_time": "2022-05-31T19:18:35.603Z"
   },
   {
    "duration": 45,
    "start_time": "2022-05-31T19:18:35.665Z"
   },
   {
    "duration": 732,
    "start_time": "2022-05-31T19:18:35.713Z"
   },
   {
    "duration": 10,
    "start_time": "2022-05-31T19:18:36.447Z"
   },
   {
    "duration": 194,
    "start_time": "2022-05-31T19:18:36.459Z"
   },
   {
    "duration": 71,
    "start_time": "2022-05-31T19:18:36.656Z"
   },
   {
    "duration": 105,
    "start_time": "2022-05-31T19:18:36.728Z"
   },
   {
    "duration": 588,
    "start_time": "2022-05-31T19:18:36.835Z"
   },
   {
    "duration": 8700,
    "start_time": "2022-05-31T19:18:37.428Z"
   },
   {
    "duration": 196,
    "start_time": "2022-05-31T19:18:46.129Z"
   },
   {
    "duration": 521,
    "start_time": "2022-05-31T19:18:46.327Z"
   },
   {
    "duration": 6500,
    "start_time": "2022-05-31T19:18:46.849Z"
   },
   {
    "duration": 572,
    "start_time": "2022-05-31T19:18:53.350Z"
   },
   {
    "duration": 8726,
    "start_time": "2022-05-31T19:18:53.925Z"
   },
   {
    "duration": 79,
    "start_time": "2022-05-31T19:19:02.653Z"
   },
   {
    "duration": 640,
    "start_time": "2022-05-31T19:19:02.735Z"
   },
   {
    "duration": 4,
    "start_time": "2022-05-31T19:19:03.426Z"
   },
   {
    "duration": 2765,
    "start_time": "2022-05-31T19:19:14.489Z"
   },
   {
    "duration": 2186,
    "start_time": "2022-05-31T19:19:54.957Z"
   },
   {
    "duration": 1367,
    "start_time": "2022-05-31T19:20:27.427Z"
   },
   {
    "duration": 57,
    "start_time": "2022-05-31T19:20:28.797Z"
   },
   {
    "duration": 44,
    "start_time": "2022-05-31T19:20:28.856Z"
   },
   {
    "duration": 775,
    "start_time": "2022-05-31T19:20:28.902Z"
   },
   {
    "duration": 10,
    "start_time": "2022-05-31T19:20:29.679Z"
   },
   {
    "duration": 260,
    "start_time": "2022-05-31T19:20:29.692Z"
   },
   {
    "duration": 75,
    "start_time": "2022-05-31T19:20:29.953Z"
   },
   {
    "duration": 55,
    "start_time": "2022-05-31T19:20:30.029Z"
   },
   {
    "duration": 564,
    "start_time": "2022-05-31T19:20:30.085Z"
   },
   {
    "duration": 8754,
    "start_time": "2022-05-31T19:20:30.652Z"
   },
   {
    "duration": 125,
    "start_time": "2022-05-31T19:20:39.408Z"
   },
   {
    "duration": 631,
    "start_time": "2022-05-31T19:20:39.535Z"
   },
   {
    "duration": 6358,
    "start_time": "2022-05-31T19:20:40.168Z"
   },
   {
    "duration": 562,
    "start_time": "2022-05-31T19:20:46.528Z"
   },
   {
    "duration": 8905,
    "start_time": "2022-05-31T19:20:47.092Z"
   },
   {
    "duration": 137,
    "start_time": "2022-05-31T19:20:55.998Z"
   },
   {
    "duration": 622,
    "start_time": "2022-05-31T19:20:56.137Z"
   },
   {
    "duration": 3,
    "start_time": "2022-05-31T19:20:56.761Z"
   },
   {
    "duration": 3260,
    "start_time": "2022-05-31T19:22:48.587Z"
   },
   {
    "duration": 1278,
    "start_time": "2022-05-31T19:23:17.030Z"
   },
   {
    "duration": 58,
    "start_time": "2022-05-31T19:23:18.310Z"
   },
   {
    "duration": 41,
    "start_time": "2022-05-31T19:23:18.369Z"
   },
   {
    "duration": 713,
    "start_time": "2022-05-31T19:23:18.412Z"
   },
   {
    "duration": 9,
    "start_time": "2022-05-31T19:23:19.127Z"
   },
   {
    "duration": 311,
    "start_time": "2022-05-31T19:23:19.139Z"
   },
   {
    "duration": 75,
    "start_time": "2022-05-31T19:23:19.452Z"
   },
   {
    "duration": 99,
    "start_time": "2022-05-31T19:23:19.529Z"
   },
   {
    "duration": 579,
    "start_time": "2022-05-31T19:23:19.630Z"
   },
   {
    "duration": 1326,
    "start_time": "2022-05-31T19:23:34.169Z"
   },
   {
    "duration": 58,
    "start_time": "2022-05-31T19:23:35.497Z"
   },
   {
    "duration": 40,
    "start_time": "2022-05-31T19:23:35.557Z"
   },
   {
    "duration": 691,
    "start_time": "2022-05-31T19:23:35.599Z"
   },
   {
    "duration": 11,
    "start_time": "2022-05-31T19:23:36.291Z"
   },
   {
    "duration": 327,
    "start_time": "2022-05-31T19:23:36.305Z"
   },
   {
    "duration": 8,
    "start_time": "2022-05-31T19:23:36.634Z"
   },
   {
    "duration": 102,
    "start_time": "2022-05-31T19:23:36.644Z"
   },
   {
    "duration": 576,
    "start_time": "2022-05-31T19:23:36.747Z"
   },
   {
    "duration": 8714,
    "start_time": "2022-05-31T19:23:37.326Z"
   },
   {
    "duration": 87,
    "start_time": "2022-05-31T19:23:46.042Z"
   },
   {
    "duration": 638,
    "start_time": "2022-05-31T19:23:46.131Z"
   },
   {
    "duration": 6655,
    "start_time": "2022-05-31T19:23:46.771Z"
   },
   {
    "duration": 553,
    "start_time": "2022-05-31T19:23:53.428Z"
   },
   {
    "duration": 9238,
    "start_time": "2022-05-31T19:23:53.983Z"
   },
   {
    "duration": 115,
    "start_time": "2022-05-31T19:24:03.223Z"
   },
   {
    "duration": 791,
    "start_time": "2022-05-31T19:24:03.343Z"
   },
   {
    "duration": 5,
    "start_time": "2022-05-31T19:24:04.136Z"
   },
   {
    "duration": 1320,
    "start_time": "2022-05-31T19:27:14.024Z"
   },
   {
    "duration": 61,
    "start_time": "2022-05-31T19:27:15.345Z"
   },
   {
    "duration": 38,
    "start_time": "2022-05-31T19:27:15.407Z"
   },
   {
    "duration": 678,
    "start_time": "2022-05-31T19:27:15.447Z"
   },
   {
    "duration": 10,
    "start_time": "2022-05-31T19:27:16.127Z"
   },
   {
    "duration": 307,
    "start_time": "2022-05-31T19:27:16.139Z"
   },
   {
    "duration": 5,
    "start_time": "2022-05-31T19:27:16.448Z"
   },
   {
    "duration": 97,
    "start_time": "2022-05-31T19:27:16.455Z"
   },
   {
    "duration": 562,
    "start_time": "2022-05-31T19:27:16.554Z"
   },
   {
    "duration": 8711,
    "start_time": "2022-05-31T19:27:17.118Z"
   },
   {
    "duration": 197,
    "start_time": "2022-05-31T19:27:25.830Z"
   },
   {
    "duration": 506,
    "start_time": "2022-05-31T19:27:26.029Z"
   },
   {
    "duration": 6495,
    "start_time": "2022-05-31T19:27:26.537Z"
   },
   {
    "duration": 582,
    "start_time": "2022-05-31T19:27:33.034Z"
   },
   {
    "duration": 8799,
    "start_time": "2022-05-31T19:27:33.617Z"
   },
   {
    "duration": 210,
    "start_time": "2022-05-31T19:27:42.418Z"
   },
   {
    "duration": 726,
    "start_time": "2022-05-31T19:27:42.631Z"
   },
   {
    "duration": 4,
    "start_time": "2022-05-31T19:27:43.359Z"
   },
   {
    "duration": 34,
    "start_time": "2022-05-31T19:27:59.806Z"
   },
   {
    "duration": 1374,
    "start_time": "2022-05-31T19:29:05.519Z"
   },
   {
    "duration": 63,
    "start_time": "2022-05-31T19:29:06.895Z"
   },
   {
    "duration": 43,
    "start_time": "2022-05-31T19:29:06.959Z"
   },
   {
    "duration": 713,
    "start_time": "2022-05-31T19:29:07.004Z"
   },
   {
    "duration": 11,
    "start_time": "2022-05-31T19:29:07.719Z"
   },
   {
    "duration": 395,
    "start_time": "2022-05-31T19:29:07.732Z"
   },
   {
    "duration": 21,
    "start_time": "2022-05-31T19:29:08.129Z"
   },
   {
    "duration": 76,
    "start_time": "2022-05-31T19:29:08.151Z"
   },
   {
    "duration": 30,
    "start_time": "2022-05-31T19:29:08.229Z"
   },
   {
    "duration": 617,
    "start_time": "2022-05-31T19:29:08.261Z"
   },
   {
    "duration": 8764,
    "start_time": "2022-05-31T19:29:08.879Z"
   },
   {
    "duration": 181,
    "start_time": "2022-05-31T19:29:17.645Z"
   },
   {
    "duration": 502,
    "start_time": "2022-05-31T19:29:17.829Z"
   },
   {
    "duration": 6336,
    "start_time": "2022-05-31T19:29:18.333Z"
   },
   {
    "duration": 588,
    "start_time": "2022-05-31T19:29:24.671Z"
   },
   {
    "duration": 8649,
    "start_time": "2022-05-31T19:29:25.261Z"
   },
   {
    "duration": 121,
    "start_time": "2022-05-31T19:29:33.912Z"
   },
   {
    "duration": 626,
    "start_time": "2022-05-31T19:29:34.125Z"
   },
   {
    "duration": 3,
    "start_time": "2022-05-31T19:29:34.753Z"
   },
   {
    "duration": 1398,
    "start_time": "2022-05-31T19:31:41.918Z"
   },
   {
    "duration": 72,
    "start_time": "2022-05-31T19:31:43.318Z"
   },
   {
    "duration": 46,
    "start_time": "2022-05-31T19:31:43.391Z"
   },
   {
    "duration": 689,
    "start_time": "2022-05-31T19:31:43.440Z"
   },
   {
    "duration": 10,
    "start_time": "2022-05-31T19:31:44.131Z"
   },
   {
    "duration": 389,
    "start_time": "2022-05-31T19:31:44.143Z"
   },
   {
    "duration": 106,
    "start_time": "2022-05-31T19:31:44.535Z"
   },
   {
    "duration": 32,
    "start_time": "2022-05-31T19:31:44.643Z"
   },
   {
    "duration": 70,
    "start_time": "2022-05-31T19:31:44.677Z"
   },
   {
    "duration": 587,
    "start_time": "2022-05-31T19:31:44.750Z"
   },
   {
    "duration": 9106,
    "start_time": "2022-05-31T19:31:45.339Z"
   },
   {
    "duration": 185,
    "start_time": "2022-05-31T19:31:54.447Z"
   },
   {
    "duration": 537,
    "start_time": "2022-05-31T19:31:54.635Z"
   },
   {
    "duration": 6560,
    "start_time": "2022-05-31T19:31:55.173Z"
   },
   {
    "duration": 635,
    "start_time": "2022-05-31T19:32:01.735Z"
   },
   {
    "duration": 8937,
    "start_time": "2022-05-31T19:32:02.372Z"
   },
   {
    "duration": 21,
    "start_time": "2022-05-31T19:32:11.311Z"
   },
   {
    "duration": 719,
    "start_time": "2022-05-31T19:32:11.334Z"
   },
   {
    "duration": 4,
    "start_time": "2022-05-31T19:32:12.055Z"
   },
   {
    "duration": 61,
    "start_time": "2022-05-31T19:32:50.632Z"
   },
   {
    "duration": 1264,
    "start_time": "2022-05-31T19:34:11.933Z"
   },
   {
    "duration": 56,
    "start_time": "2022-05-31T19:34:13.199Z"
   },
   {
    "duration": 38,
    "start_time": "2022-05-31T19:34:13.257Z"
   },
   {
    "duration": 644,
    "start_time": "2022-05-31T19:34:13.297Z"
   },
   {
    "duration": 14,
    "start_time": "2022-05-31T19:34:13.943Z"
   },
   {
    "duration": 283,
    "start_time": "2022-05-31T19:34:13.959Z"
   },
   {
    "duration": 88,
    "start_time": "2022-05-31T19:34:14.244Z"
   },
   {
    "duration": 6,
    "start_time": "2022-05-31T19:34:14.333Z"
   },
   {
    "duration": 28,
    "start_time": "2022-05-31T19:34:14.340Z"
   },
   {
    "duration": 611,
    "start_time": "2022-05-31T19:34:14.370Z"
   },
   {
    "duration": 8803,
    "start_time": "2022-05-31T19:34:14.983Z"
   },
   {
    "duration": 41,
    "start_time": "2022-05-31T19:34:23.788Z"
   },
   {
    "duration": 632,
    "start_time": "2022-05-31T19:34:23.832Z"
   },
   {
    "duration": 6188,
    "start_time": "2022-05-31T19:34:24.466Z"
   },
   {
    "duration": 676,
    "start_time": "2022-05-31T19:34:30.655Z"
   },
   {
    "duration": 8782,
    "start_time": "2022-05-31T19:34:31.333Z"
   },
   {
    "duration": 109,
    "start_time": "2022-05-31T19:34:40.117Z"
   },
   {
    "duration": 546,
    "start_time": "2022-05-31T19:34:40.229Z"
   },
   {
    "duration": 4,
    "start_time": "2022-05-31T19:34:40.826Z"
   },
   {
    "duration": 1234,
    "start_time": "2022-05-31T19:35:27.561Z"
   },
   {
    "duration": 58,
    "start_time": "2022-05-31T19:35:28.797Z"
   },
   {
    "duration": 41,
    "start_time": "2022-05-31T19:35:28.857Z"
   },
   {
    "duration": 745,
    "start_time": "2022-05-31T19:35:28.900Z"
   },
   {
    "duration": 15,
    "start_time": "2022-05-31T19:35:29.647Z"
   },
   {
    "duration": 372,
    "start_time": "2022-05-31T19:35:29.664Z"
   },
   {
    "duration": 99,
    "start_time": "2022-05-31T19:35:30.038Z"
   },
   {
    "duration": 4,
    "start_time": "2022-05-31T19:35:30.138Z"
   },
   {
    "duration": 40,
    "start_time": "2022-05-31T19:35:30.144Z"
   },
   {
    "duration": 548,
    "start_time": "2022-05-31T19:35:30.186Z"
   },
   {
    "duration": 8658,
    "start_time": "2022-05-31T19:35:30.735Z"
   },
   {
    "duration": 133,
    "start_time": "2022-05-31T19:35:39.395Z"
   },
   {
    "duration": 542,
    "start_time": "2022-05-31T19:35:39.530Z"
   },
   {
    "duration": 6271,
    "start_time": "2022-05-31T19:35:40.074Z"
   },
   {
    "duration": 576,
    "start_time": "2022-05-31T19:35:46.347Z"
   },
   {
    "duration": 8802,
    "start_time": "2022-05-31T19:35:46.925Z"
   },
   {
    "duration": 199,
    "start_time": "2022-05-31T19:35:55.729Z"
   },
   {
    "duration": 537,
    "start_time": "2022-05-31T19:35:55.930Z"
   },
   {
    "duration": 3,
    "start_time": "2022-05-31T19:35:56.469Z"
   },
   {
    "duration": 2092,
    "start_time": "2022-05-31T19:37:13.052Z"
   },
   {
    "duration": 1302,
    "start_time": "2022-05-31T19:37:34.996Z"
   },
   {
    "duration": 59,
    "start_time": "2022-05-31T19:37:36.300Z"
   },
   {
    "duration": 44,
    "start_time": "2022-05-31T19:37:36.361Z"
   },
   {
    "duration": 678,
    "start_time": "2022-05-31T19:37:36.407Z"
   },
   {
    "duration": 16,
    "start_time": "2022-05-31T19:37:37.087Z"
   },
   {
    "duration": 444,
    "start_time": "2022-05-31T19:37:37.105Z"
   },
   {
    "duration": 85,
    "start_time": "2022-05-31T19:37:37.551Z"
   },
   {
    "duration": 11,
    "start_time": "2022-05-31T19:37:37.638Z"
   },
   {
    "duration": 100,
    "start_time": "2022-05-31T19:37:37.650Z"
   },
   {
    "duration": 546,
    "start_time": "2022-05-31T19:37:37.753Z"
   },
   {
    "duration": 8744,
    "start_time": "2022-05-31T19:37:38.301Z"
   },
   {
    "duration": 182,
    "start_time": "2022-05-31T19:37:47.047Z"
   },
   {
    "duration": 829,
    "start_time": "2022-05-31T19:37:47.230Z"
   },
   {
    "duration": 6790,
    "start_time": "2022-05-31T19:37:48.061Z"
   },
   {
    "duration": 623,
    "start_time": "2022-05-31T19:37:54.853Z"
   },
   {
    "duration": 9023,
    "start_time": "2022-05-31T19:37:55.478Z"
   },
   {
    "duration": 34,
    "start_time": "2022-05-31T19:38:04.503Z"
   },
   {
    "duration": 687,
    "start_time": "2022-05-31T19:38:04.539Z"
   },
   {
    "duration": 3,
    "start_time": "2022-05-31T19:38:05.228Z"
   },
   {
    "duration": 2035,
    "start_time": "2022-05-31T19:38:26.408Z"
   },
   {
    "duration": 1290,
    "start_time": "2022-05-31T19:38:48.336Z"
   },
   {
    "duration": 61,
    "start_time": "2022-05-31T19:38:49.628Z"
   },
   {
    "duration": 42,
    "start_time": "2022-05-31T19:38:49.691Z"
   },
   {
    "duration": 739,
    "start_time": "2022-05-31T19:38:49.735Z"
   },
   {
    "duration": 15,
    "start_time": "2022-05-31T19:38:50.476Z"
   },
   {
    "duration": 463,
    "start_time": "2022-05-31T19:38:50.492Z"
   },
   {
    "duration": 20,
    "start_time": "2022-05-31T19:38:51.027Z"
   },
   {
    "duration": 10,
    "start_time": "2022-05-31T19:38:51.048Z"
   },
   {
    "duration": 33,
    "start_time": "2022-05-31T19:38:51.059Z"
   },
   {
    "duration": 613,
    "start_time": "2022-05-31T19:38:51.094Z"
   },
   {
    "duration": 8827,
    "start_time": "2022-05-31T19:38:51.709Z"
   },
   {
    "duration": 190,
    "start_time": "2022-05-31T19:39:00.537Z"
   },
   {
    "duration": 607,
    "start_time": "2022-05-31T19:39:00.730Z"
   },
   {
    "duration": 6722,
    "start_time": "2022-05-31T19:39:01.339Z"
   },
   {
    "duration": 638,
    "start_time": "2022-05-31T19:39:08.062Z"
   },
   {
    "duration": 8900,
    "start_time": "2022-05-31T19:39:08.702Z"
   },
   {
    "duration": 124,
    "start_time": "2022-05-31T19:39:17.604Z"
   },
   {
    "duration": 635,
    "start_time": "2022-05-31T19:39:17.730Z"
   },
   {
    "duration": 4,
    "start_time": "2022-05-31T19:39:18.366Z"
   },
   {
    "duration": 1314,
    "start_time": "2022-05-31T19:39:43.614Z"
   },
   {
    "duration": 58,
    "start_time": "2022-05-31T19:39:44.930Z"
   },
   {
    "duration": 43,
    "start_time": "2022-05-31T19:39:44.991Z"
   },
   {
    "duration": 669,
    "start_time": "2022-05-31T19:39:45.036Z"
   },
   {
    "duration": 14,
    "start_time": "2022-05-31T19:39:45.707Z"
   },
   {
    "duration": 329,
    "start_time": "2022-05-31T19:39:45.722Z"
   },
   {
    "duration": 88,
    "start_time": "2022-05-31T19:39:46.054Z"
   },
   {
    "duration": 7,
    "start_time": "2022-05-31T19:39:46.144Z"
   },
   {
    "duration": 29,
    "start_time": "2022-05-31T19:39:46.152Z"
   },
   {
    "duration": 555,
    "start_time": "2022-05-31T19:39:46.183Z"
   },
   {
    "duration": 8988,
    "start_time": "2022-05-31T19:39:46.740Z"
   },
   {
    "duration": 100,
    "start_time": "2022-05-31T19:39:55.729Z"
   },
   {
    "duration": 633,
    "start_time": "2022-05-31T19:39:55.832Z"
   },
   {
    "duration": 6664,
    "start_time": "2022-05-31T19:39:56.467Z"
   },
   {
    "duration": 623,
    "start_time": "2022-05-31T19:40:03.133Z"
   },
   {
    "duration": 1367,
    "start_time": "2022-05-31T19:40:10.041Z"
   },
   {
    "duration": 60,
    "start_time": "2022-05-31T19:40:11.410Z"
   },
   {
    "duration": 40,
    "start_time": "2022-05-31T19:40:11.472Z"
   },
   {
    "duration": 731,
    "start_time": "2022-05-31T19:40:11.514Z"
   },
   {
    "duration": 15,
    "start_time": "2022-05-31T19:40:12.247Z"
   },
   {
    "duration": 267,
    "start_time": "2022-05-31T19:40:12.264Z"
   },
   {
    "duration": 95,
    "start_time": "2022-05-31T19:40:12.533Z"
   },
   {
    "duration": 24,
    "start_time": "2022-05-31T19:40:12.630Z"
   },
   {
    "duration": 97,
    "start_time": "2022-05-31T19:40:12.655Z"
   },
   {
    "duration": 582,
    "start_time": "2022-05-31T19:40:12.756Z"
   },
   {
    "duration": 8790,
    "start_time": "2022-05-31T19:40:13.340Z"
   },
   {
    "duration": 195,
    "start_time": "2022-05-31T19:40:22.132Z"
   },
   {
    "duration": 536,
    "start_time": "2022-05-31T19:40:22.329Z"
   },
   {
    "duration": 6560,
    "start_time": "2022-05-31T19:40:22.867Z"
   },
   {
    "duration": 601,
    "start_time": "2022-05-31T19:40:29.429Z"
   },
   {
    "duration": 9168,
    "start_time": "2022-05-31T19:40:30.031Z"
   },
   {
    "duration": 40,
    "start_time": "2022-05-31T19:40:39.201Z"
   },
   {
    "duration": 707,
    "start_time": "2022-05-31T19:40:39.242Z"
   },
   {
    "duration": 4,
    "start_time": "2022-05-31T19:40:39.951Z"
   },
   {
    "duration": 4,
    "start_time": "2022-05-31T19:41:29.757Z"
   },
   {
    "duration": 58,
    "start_time": "2022-05-31T19:41:29.767Z"
   },
   {
    "duration": 40,
    "start_time": "2022-05-31T19:41:29.827Z"
   },
   {
    "duration": 666,
    "start_time": "2022-05-31T19:41:29.869Z"
   },
   {
    "duration": 18,
    "start_time": "2022-05-31T19:41:30.537Z"
   },
   {
    "duration": 12,
    "start_time": "2022-05-31T19:41:34.308Z"
   },
   {
    "duration": 20,
    "start_time": "2022-05-31T19:41:40.636Z"
   },
   {
    "duration": 322,
    "start_time": "2022-05-31T19:41:53.813Z"
   },
   {
    "duration": 36,
    "start_time": "2022-05-31T19:43:58.983Z"
   },
   {
    "duration": 3,
    "start_time": "2022-05-31T19:44:07.042Z"
   },
   {
    "duration": 68,
    "start_time": "2022-05-31T19:44:07.050Z"
   },
   {
    "duration": 38,
    "start_time": "2022-05-31T19:44:07.120Z"
   },
   {
    "duration": 761,
    "start_time": "2022-05-31T19:44:07.160Z"
   },
   {
    "duration": 16,
    "start_time": "2022-05-31T19:44:12.703Z"
   },
   {
    "duration": 248,
    "start_time": "2022-05-31T19:44:24.604Z"
   },
   {
    "duration": 4,
    "start_time": "2022-05-31T19:45:39.444Z"
   },
   {
    "duration": 55,
    "start_time": "2022-05-31T19:45:39.450Z"
   },
   {
    "duration": 38,
    "start_time": "2022-05-31T19:45:39.507Z"
   },
   {
    "duration": 652,
    "start_time": "2022-05-31T19:45:39.547Z"
   },
   {
    "duration": 24,
    "start_time": "2022-05-31T19:45:40.202Z"
   },
   {
    "duration": 279,
    "start_time": "2022-05-31T19:45:44.961Z"
   },
   {
    "duration": 4,
    "start_time": "2022-05-31T19:46:52.738Z"
   },
   {
    "duration": 73,
    "start_time": "2022-05-31T19:46:52.744Z"
   },
   {
    "duration": 43,
    "start_time": "2022-05-31T19:46:52.819Z"
   },
   {
    "duration": 650,
    "start_time": "2022-05-31T19:46:52.864Z"
   },
   {
    "duration": 22,
    "start_time": "2022-05-31T19:46:53.516Z"
   },
   {
    "duration": 243,
    "start_time": "2022-05-31T19:47:05.188Z"
   },
   {
    "duration": 4,
    "start_time": "2022-05-31T19:48:01.717Z"
   },
   {
    "duration": 62,
    "start_time": "2022-05-31T19:48:01.725Z"
   },
   {
    "duration": 54,
    "start_time": "2022-05-31T19:48:01.789Z"
   },
   {
    "duration": 790,
    "start_time": "2022-05-31T19:48:01.846Z"
   },
   {
    "duration": 458,
    "start_time": "2022-05-31T19:48:41.597Z"
   },
   {
    "duration": 6,
    "start_time": "2022-05-31T19:48:50.878Z"
   },
   {
    "duration": 64,
    "start_time": "2022-05-31T19:48:50.886Z"
   },
   {
    "duration": 39,
    "start_time": "2022-05-31T19:48:50.951Z"
   },
   {
    "duration": 814,
    "start_time": "2022-05-31T19:48:50.992Z"
   },
   {
    "duration": 22,
    "start_time": "2022-05-31T19:48:51.808Z"
   },
   {
    "duration": 382,
    "start_time": "2022-05-31T19:49:02.160Z"
   },
   {
    "duration": 242,
    "start_time": "2022-05-31T19:53:48.909Z"
   },
   {
    "duration": 4,
    "start_time": "2022-05-31T19:54:13.893Z"
   },
   {
    "duration": 67,
    "start_time": "2022-05-31T19:54:13.899Z"
   },
   {
    "duration": 39,
    "start_time": "2022-05-31T19:54:13.967Z"
   },
   {
    "duration": 641,
    "start_time": "2022-05-31T19:54:14.008Z"
   },
   {
    "duration": 19,
    "start_time": "2022-05-31T19:54:14.652Z"
   },
   {
    "duration": 152,
    "start_time": "2022-05-31T19:54:25.805Z"
   },
   {
    "duration": 20,
    "start_time": "2022-05-31T19:54:31.537Z"
   },
   {
    "duration": 19,
    "start_time": "2022-05-31T19:55:17.051Z"
   },
   {
    "duration": 4,
    "start_time": "2022-05-31T19:55:22.468Z"
   },
   {
    "duration": 54,
    "start_time": "2022-05-31T19:55:22.475Z"
   },
   {
    "duration": 38,
    "start_time": "2022-05-31T19:55:22.531Z"
   },
   {
    "duration": 615,
    "start_time": "2022-05-31T19:55:22.571Z"
   },
   {
    "duration": 9,
    "start_time": "2022-05-31T19:55:23.188Z"
   },
   {
    "duration": 9,
    "start_time": "2022-05-31T19:55:28.511Z"
   },
   {
    "duration": 223,
    "start_time": "2022-05-31T19:55:41.906Z"
   },
   {
    "duration": 22,
    "start_time": "2022-05-31T19:55:44.643Z"
   },
   {
    "duration": 1475,
    "start_time": "2022-06-01T03:34:22.017Z"
   },
   {
    "duration": 136,
    "start_time": "2022-06-01T03:34:23.495Z"
   },
   {
    "duration": 46,
    "start_time": "2022-06-01T03:34:23.633Z"
   },
   {
    "duration": 767,
    "start_time": "2022-06-01T03:34:23.681Z"
   },
   {
    "duration": 9,
    "start_time": "2022-06-01T03:34:24.450Z"
   },
   {
    "duration": 243,
    "start_time": "2022-06-01T03:34:24.460Z"
   },
   {
    "duration": 23,
    "start_time": "2022-06-01T03:34:24.705Z"
   },
   {
    "duration": 4,
    "start_time": "2022-06-01T03:34:24.800Z"
   },
   {
    "duration": 104,
    "start_time": "2022-06-01T03:34:24.807Z"
   },
   {
    "duration": 625,
    "start_time": "2022-06-01T03:34:24.913Z"
   },
   {
    "duration": 9561,
    "start_time": "2022-06-01T03:34:25.540Z"
   },
   {
    "duration": 100,
    "start_time": "2022-06-01T03:34:35.103Z"
   },
   {
    "duration": 918,
    "start_time": "2022-06-01T03:34:35.206Z"
   },
   {
    "duration": 6794,
    "start_time": "2022-06-01T03:34:36.126Z"
   },
   {
    "duration": 621,
    "start_time": "2022-06-01T03:34:42.922Z"
   },
   {
    "duration": 9476,
    "start_time": "2022-06-01T03:34:43.544Z"
   },
   {
    "duration": 18,
    "start_time": "2022-06-01T03:34:53.022Z"
   },
   {
    "duration": 608,
    "start_time": "2022-06-01T03:34:53.103Z"
   },
   {
    "duration": 4,
    "start_time": "2022-06-01T03:34:53.713Z"
   },
   {
    "duration": 4,
    "start_time": "2022-06-01T03:35:05.200Z"
   },
   {
    "duration": 52,
    "start_time": "2022-06-01T03:35:08.340Z"
   },
   {
    "duration": 102,
    "start_time": "2022-06-01T03:35:25.561Z"
   },
   {
    "duration": 80,
    "start_time": "2022-06-01T03:35:53.426Z"
   },
   {
    "duration": 144,
    "start_time": "2022-06-01T03:36:16.414Z"
   },
   {
    "duration": 1322,
    "start_time": "2022-06-01T03:36:34.629Z"
   },
   {
    "duration": 58,
    "start_time": "2022-06-01T03:36:35.953Z"
   },
   {
    "duration": 143,
    "start_time": "2022-06-01T03:36:36.013Z"
   },
   {
    "duration": 0,
    "start_time": "2022-06-01T03:36:36.159Z"
   },
   {
    "duration": 0,
    "start_time": "2022-06-01T03:36:36.160Z"
   },
   {
    "duration": 0,
    "start_time": "2022-06-01T03:36:36.162Z"
   },
   {
    "duration": 0,
    "start_time": "2022-06-01T03:36:36.163Z"
   },
   {
    "duration": 0,
    "start_time": "2022-06-01T03:36:36.164Z"
   },
   {
    "duration": 0,
    "start_time": "2022-06-01T03:36:36.166Z"
   },
   {
    "duration": 0,
    "start_time": "2022-06-01T03:36:36.167Z"
   },
   {
    "duration": 0,
    "start_time": "2022-06-01T03:36:36.169Z"
   },
   {
    "duration": 0,
    "start_time": "2022-06-01T03:36:36.170Z"
   },
   {
    "duration": 0,
    "start_time": "2022-06-01T03:36:36.172Z"
   },
   {
    "duration": 0,
    "start_time": "2022-06-01T03:36:36.173Z"
   },
   {
    "duration": 0,
    "start_time": "2022-06-01T03:36:36.200Z"
   },
   {
    "duration": 0,
    "start_time": "2022-06-01T03:36:36.201Z"
   },
   {
    "duration": 0,
    "start_time": "2022-06-01T03:36:36.202Z"
   },
   {
    "duration": 0,
    "start_time": "2022-06-01T03:36:36.204Z"
   },
   {
    "duration": 0,
    "start_time": "2022-06-01T03:36:36.206Z"
   },
   {
    "duration": 64,
    "start_time": "2022-06-01T03:36:51.230Z"
   },
   {
    "duration": 761,
    "start_time": "2022-06-01T03:36:59.739Z"
   },
   {
    "duration": 692,
    "start_time": "2022-06-01T03:37:10.193Z"
   },
   {
    "duration": 234,
    "start_time": "2022-06-01T03:39:02.491Z"
   },
   {
    "duration": 21,
    "start_time": "2022-06-01T03:39:05.848Z"
   },
   {
    "duration": 1350,
    "start_time": "2022-06-01T03:43:38.736Z"
   },
   {
    "duration": 58,
    "start_time": "2022-06-01T03:43:40.088Z"
   },
   {
    "duration": 50,
    "start_time": "2022-06-01T03:43:40.148Z"
   },
   {
    "duration": 715,
    "start_time": "2022-06-01T03:43:40.201Z"
   },
   {
    "duration": 10,
    "start_time": "2022-06-01T03:43:40.918Z"
   },
   {
    "duration": 8,
    "start_time": "2022-06-01T03:43:40.930Z"
   },
   {
    "duration": 261,
    "start_time": "2022-06-01T03:43:40.940Z"
   },
   {
    "duration": 199,
    "start_time": "2022-06-01T03:43:41.204Z"
   },
   {
    "duration": 0,
    "start_time": "2022-06-01T03:43:41.406Z"
   },
   {
    "duration": 0,
    "start_time": "2022-06-01T03:43:41.407Z"
   },
   {
    "duration": 0,
    "start_time": "2022-06-01T03:43:41.409Z"
   },
   {
    "duration": 1,
    "start_time": "2022-06-01T03:43:41.410Z"
   },
   {
    "duration": 0,
    "start_time": "2022-06-01T03:43:41.412Z"
   },
   {
    "duration": 0,
    "start_time": "2022-06-01T03:43:41.413Z"
   },
   {
    "duration": 0,
    "start_time": "2022-06-01T03:43:41.415Z"
   },
   {
    "duration": 0,
    "start_time": "2022-06-01T03:43:41.417Z"
   },
   {
    "duration": 0,
    "start_time": "2022-06-01T03:43:41.419Z"
   },
   {
    "duration": 0,
    "start_time": "2022-06-01T03:43:41.420Z"
   },
   {
    "duration": 0,
    "start_time": "2022-06-01T03:43:41.421Z"
   },
   {
    "duration": 0,
    "start_time": "2022-06-01T03:43:41.423Z"
   },
   {
    "duration": 20,
    "start_time": "2022-06-01T03:43:50.145Z"
   },
   {
    "duration": 1314,
    "start_time": "2022-06-01T03:47:33.535Z"
   },
   {
    "duration": 60,
    "start_time": "2022-06-01T03:47:34.850Z"
   },
   {
    "duration": 42,
    "start_time": "2022-06-01T03:47:34.912Z"
   },
   {
    "duration": 736,
    "start_time": "2022-06-01T03:47:34.956Z"
   },
   {
    "duration": 10,
    "start_time": "2022-06-01T03:47:35.693Z"
   },
   {
    "duration": 6,
    "start_time": "2022-06-01T03:47:35.705Z"
   },
   {
    "duration": 12,
    "start_time": "2022-06-01T03:47:35.712Z"
   },
   {
    "duration": 0,
    "start_time": "2022-06-01T03:47:35.726Z"
   },
   {
    "duration": 0,
    "start_time": "2022-06-01T03:47:35.728Z"
   },
   {
    "duration": 0,
    "start_time": "2022-06-01T03:47:35.728Z"
   },
   {
    "duration": 0,
    "start_time": "2022-06-01T03:47:35.730Z"
   },
   {
    "duration": 0,
    "start_time": "2022-06-01T03:47:35.731Z"
   },
   {
    "duration": 0,
    "start_time": "2022-06-01T03:47:35.732Z"
   },
   {
    "duration": 0,
    "start_time": "2022-06-01T03:47:35.733Z"
   },
   {
    "duration": 0,
    "start_time": "2022-06-01T03:47:35.735Z"
   },
   {
    "duration": 0,
    "start_time": "2022-06-01T03:47:35.735Z"
   },
   {
    "duration": 0,
    "start_time": "2022-06-01T03:47:35.737Z"
   },
   {
    "duration": 0,
    "start_time": "2022-06-01T03:47:35.738Z"
   },
   {
    "duration": 0,
    "start_time": "2022-06-01T03:47:35.739Z"
   },
   {
    "duration": 0,
    "start_time": "2022-06-01T03:47:35.740Z"
   },
   {
    "duration": 12,
    "start_time": "2022-06-01T03:47:41.451Z"
   },
   {
    "duration": 214,
    "start_time": "2022-06-01T03:47:53.391Z"
   },
   {
    "duration": 22,
    "start_time": "2022-06-01T03:48:05.882Z"
   },
   {
    "duration": 21,
    "start_time": "2022-06-01T03:48:19.715Z"
   },
   {
    "duration": 20,
    "start_time": "2022-06-01T03:48:25.678Z"
   },
   {
    "duration": 19,
    "start_time": "2022-06-01T03:48:54.060Z"
   },
   {
    "duration": 1384,
    "start_time": "2022-06-01T03:49:36.176Z"
   },
   {
    "duration": 59,
    "start_time": "2022-06-01T03:49:37.561Z"
   },
   {
    "duration": 41,
    "start_time": "2022-06-01T03:49:37.622Z"
   },
   {
    "duration": 707,
    "start_time": "2022-06-01T03:49:37.665Z"
   },
   {
    "duration": 12,
    "start_time": "2022-06-01T03:49:38.375Z"
   },
   {
    "duration": 8,
    "start_time": "2022-06-01T03:49:38.389Z"
   },
   {
    "duration": 8,
    "start_time": "2022-06-01T03:49:38.399Z"
   },
   {
    "duration": 0,
    "start_time": "2022-06-01T03:49:38.409Z"
   },
   {
    "duration": 0,
    "start_time": "2022-06-01T03:49:38.411Z"
   },
   {
    "duration": 0,
    "start_time": "2022-06-01T03:49:38.413Z"
   },
   {
    "duration": 0,
    "start_time": "2022-06-01T03:49:38.414Z"
   },
   {
    "duration": 0,
    "start_time": "2022-06-01T03:49:38.415Z"
   },
   {
    "duration": 0,
    "start_time": "2022-06-01T03:49:38.417Z"
   },
   {
    "duration": 0,
    "start_time": "2022-06-01T03:49:38.418Z"
   },
   {
    "duration": 0,
    "start_time": "2022-06-01T03:49:38.420Z"
   },
   {
    "duration": 0,
    "start_time": "2022-06-01T03:49:38.421Z"
   },
   {
    "duration": 0,
    "start_time": "2022-06-01T03:49:38.423Z"
   },
   {
    "duration": 0,
    "start_time": "2022-06-01T03:49:38.425Z"
   },
   {
    "duration": 0,
    "start_time": "2022-06-01T03:49:38.426Z"
   },
   {
    "duration": 0,
    "start_time": "2022-06-01T03:49:38.428Z"
   },
   {
    "duration": 212,
    "start_time": "2022-06-01T03:49:44.351Z"
   },
   {
    "duration": 91,
    "start_time": "2022-06-01T03:49:59.056Z"
   },
   {
    "duration": 477,
    "start_time": "2022-06-01T03:51:41.828Z"
   },
   {
    "duration": 32,
    "start_time": "2022-06-01T03:51:57.313Z"
   },
   {
    "duration": 31,
    "start_time": "2022-06-01T03:52:01.884Z"
   },
   {
    "duration": 20,
    "start_time": "2022-06-01T03:52:07.572Z"
   },
   {
    "duration": 21,
    "start_time": "2022-06-01T03:52:15.960Z"
   },
   {
    "duration": 1407,
    "start_time": "2022-06-01T03:53:52.085Z"
   },
   {
    "duration": 60,
    "start_time": "2022-06-01T03:53:53.494Z"
   },
   {
    "duration": 41,
    "start_time": "2022-06-01T03:53:53.556Z"
   },
   {
    "duration": 709,
    "start_time": "2022-06-01T03:53:53.599Z"
   },
   {
    "duration": 11,
    "start_time": "2022-06-01T03:53:54.309Z"
   },
   {
    "duration": 6,
    "start_time": "2022-06-01T03:53:54.322Z"
   },
   {
    "duration": 11,
    "start_time": "2022-06-01T03:53:54.330Z"
   },
   {
    "duration": 0,
    "start_time": "2022-06-01T03:53:54.343Z"
   },
   {
    "duration": 0,
    "start_time": "2022-06-01T03:53:54.344Z"
   },
   {
    "duration": 0,
    "start_time": "2022-06-01T03:53:54.346Z"
   },
   {
    "duration": 0,
    "start_time": "2022-06-01T03:53:54.346Z"
   },
   {
    "duration": 0,
    "start_time": "2022-06-01T03:53:54.348Z"
   },
   {
    "duration": 0,
    "start_time": "2022-06-01T03:53:54.349Z"
   },
   {
    "duration": 0,
    "start_time": "2022-06-01T03:53:54.350Z"
   },
   {
    "duration": 0,
    "start_time": "2022-06-01T03:53:54.351Z"
   },
   {
    "duration": 0,
    "start_time": "2022-06-01T03:53:54.352Z"
   },
   {
    "duration": 0,
    "start_time": "2022-06-01T03:53:54.353Z"
   },
   {
    "duration": 0,
    "start_time": "2022-06-01T03:53:54.355Z"
   },
   {
    "duration": 0,
    "start_time": "2022-06-01T03:53:54.356Z"
   },
   {
    "duration": 0,
    "start_time": "2022-06-01T03:53:54.357Z"
   },
   {
    "duration": 364,
    "start_time": "2022-06-01T03:54:03.655Z"
   },
   {
    "duration": 609,
    "start_time": "2022-06-01T03:54:15.508Z"
   },
   {
    "duration": 342,
    "start_time": "2022-06-01T03:54:50.371Z"
   },
   {
    "duration": 481,
    "start_time": "2022-06-01T03:55:03.244Z"
   },
   {
    "duration": 21,
    "start_time": "2022-06-01T03:55:11.185Z"
   },
   {
    "duration": 1177,
    "start_time": "2022-06-01T03:55:18.731Z"
   },
   {
    "duration": 27,
    "start_time": "2022-06-01T03:55:24.344Z"
   },
   {
    "duration": 45,
    "start_time": "2022-06-01T04:05:51.179Z"
   },
   {
    "duration": 1281,
    "start_time": "2022-06-01T04:06:44.311Z"
   },
   {
    "duration": 61,
    "start_time": "2022-06-01T04:06:45.594Z"
   },
   {
    "duration": 42,
    "start_time": "2022-06-01T04:06:45.657Z"
   },
   {
    "duration": 683,
    "start_time": "2022-06-01T04:06:45.701Z"
   },
   {
    "duration": 5,
    "start_time": "2022-06-01T04:06:46.386Z"
   },
   {
    "duration": 17,
    "start_time": "2022-06-01T04:06:46.393Z"
   },
   {
    "duration": 1,
    "start_time": "2022-06-01T04:06:46.411Z"
   },
   {
    "duration": 0,
    "start_time": "2022-06-01T04:06:46.413Z"
   },
   {
    "duration": 0,
    "start_time": "2022-06-01T04:06:46.414Z"
   },
   {
    "duration": 0,
    "start_time": "2022-06-01T04:06:46.415Z"
   },
   {
    "duration": 0,
    "start_time": "2022-06-01T04:06:46.416Z"
   },
   {
    "duration": 0,
    "start_time": "2022-06-01T04:06:46.417Z"
   },
   {
    "duration": 0,
    "start_time": "2022-06-01T04:06:46.419Z"
   },
   {
    "duration": 0,
    "start_time": "2022-06-01T04:06:46.420Z"
   },
   {
    "duration": 0,
    "start_time": "2022-06-01T04:06:46.421Z"
   },
   {
    "duration": 0,
    "start_time": "2022-06-01T04:06:46.422Z"
   },
   {
    "duration": 0,
    "start_time": "2022-06-01T04:06:46.423Z"
   },
   {
    "duration": 0,
    "start_time": "2022-06-01T04:06:46.423Z"
   },
   {
    "duration": 0,
    "start_time": "2022-06-01T04:06:46.424Z"
   },
   {
    "duration": 126,
    "start_time": "2022-06-01T04:07:20.638Z"
   },
   {
    "duration": 2364,
    "start_time": "2022-06-01T04:07:54.943Z"
   },
   {
    "duration": 33,
    "start_time": "2022-06-01T04:08:27.298Z"
   },
   {
    "duration": 5,
    "start_time": "2022-06-01T04:18:02.615Z"
   },
   {
    "duration": 4,
    "start_time": "2022-06-01T04:18:05.763Z"
   },
   {
    "duration": 11,
    "start_time": "2022-06-01T04:18:07.644Z"
   },
   {
    "duration": 20,
    "start_time": "2022-06-01T04:18:30.339Z"
   },
   {
    "duration": 1369,
    "start_time": "2022-06-01T04:18:39.771Z"
   },
   {
    "duration": 60,
    "start_time": "2022-06-01T04:18:41.142Z"
   },
   {
    "duration": 41,
    "start_time": "2022-06-01T04:18:41.203Z"
   },
   {
    "duration": 683,
    "start_time": "2022-06-01T04:18:41.245Z"
   },
   {
    "duration": 5,
    "start_time": "2022-06-01T04:18:41.930Z"
   },
   {
    "duration": 1881,
    "start_time": "2022-06-01T04:18:41.937Z"
   },
   {
    "duration": 32,
    "start_time": "2022-06-01T04:18:43.819Z"
   },
   {
    "duration": 3,
    "start_time": "2022-06-01T04:18:43.853Z"
   },
   {
    "duration": 21,
    "start_time": "2022-06-01T04:18:43.858Z"
   },
   {
    "duration": 1388,
    "start_time": "2022-06-01T04:18:43.900Z"
   },
   {
    "duration": 16349,
    "start_time": "2022-06-01T04:18:45.290Z"
   },
   {
    "duration": 159,
    "start_time": "2022-06-01T04:19:01.640Z"
   },
   {
    "duration": 1012,
    "start_time": "2022-06-01T04:19:01.802Z"
   },
   {
    "duration": 17634,
    "start_time": "2022-06-01T04:19:02.816Z"
   },
   {
    "duration": 1432,
    "start_time": "2022-06-01T04:19:20.500Z"
   },
   {
    "duration": 16334,
    "start_time": "2022-06-01T04:19:21.934Z"
   },
   {
    "duration": 137,
    "start_time": "2022-06-01T04:19:38.270Z"
   },
   {
    "duration": 1027,
    "start_time": "2022-06-01T04:19:38.409Z"
   },
   {
    "duration": 3,
    "start_time": "2022-06-01T04:19:39.438Z"
   },
   {
    "duration": 1318,
    "start_time": "2022-06-01T18:20:56.522Z"
   },
   {
    "duration": 122,
    "start_time": "2022-06-01T18:20:57.842Z"
   },
   {
    "duration": 41,
    "start_time": "2022-06-01T18:20:57.966Z"
   },
   {
    "duration": 662,
    "start_time": "2022-06-01T18:20:58.009Z"
   },
   {
    "duration": 4,
    "start_time": "2022-06-01T18:20:58.673Z"
   },
   {
    "duration": 1524,
    "start_time": "2022-06-01T18:20:58.679Z"
   },
   {
    "duration": 25,
    "start_time": "2022-06-01T18:21:00.205Z"
   },
   {
    "duration": 3,
    "start_time": "2022-06-01T18:21:00.232Z"
   },
   {
    "duration": 26,
    "start_time": "2022-06-01T18:21:00.237Z"
   },
   {
    "duration": 1263,
    "start_time": "2022-06-01T18:21:00.265Z"
   },
   {
    "duration": 14410,
    "start_time": "2022-06-01T18:21:01.530Z"
   },
   {
    "duration": 154,
    "start_time": "2022-06-01T18:21:15.942Z"
   },
   {
    "duration": 1000,
    "start_time": "2022-06-01T18:21:16.099Z"
   },
   {
    "duration": 1211,
    "start_time": "2022-06-01T18:21:31.418Z"
   },
   {
    "duration": 57,
    "start_time": "2022-06-01T18:21:32.631Z"
   },
   {
    "duration": 35,
    "start_time": "2022-06-01T18:21:32.690Z"
   },
   {
    "duration": 596,
    "start_time": "2022-06-01T18:21:32.727Z"
   },
   {
    "duration": 5,
    "start_time": "2022-06-01T18:21:33.325Z"
   },
   {
    "duration": 1474,
    "start_time": "2022-06-01T18:21:33.332Z"
   },
   {
    "duration": 28,
    "start_time": "2022-06-01T18:21:34.807Z"
   },
   {
    "duration": 3,
    "start_time": "2022-06-01T18:21:34.836Z"
   },
   {
    "duration": 6,
    "start_time": "2022-06-01T18:21:34.841Z"
   },
   {
    "duration": 0,
    "start_time": "2022-06-01T18:21:34.848Z"
   },
   {
    "duration": 0,
    "start_time": "2022-06-01T18:21:34.849Z"
   },
   {
    "duration": 0,
    "start_time": "2022-06-01T18:21:34.851Z"
   },
   {
    "duration": 0,
    "start_time": "2022-06-01T18:21:34.852Z"
   },
   {
    "duration": 0,
    "start_time": "2022-06-01T18:21:34.853Z"
   },
   {
    "duration": 0,
    "start_time": "2022-06-01T18:21:34.854Z"
   },
   {
    "duration": 0,
    "start_time": "2022-06-01T18:21:34.855Z"
   },
   {
    "duration": 0,
    "start_time": "2022-06-01T18:21:34.892Z"
   },
   {
    "duration": 0,
    "start_time": "2022-06-01T18:21:34.893Z"
   },
   {
    "duration": 0,
    "start_time": "2022-06-01T18:21:34.895Z"
   },
   {
    "duration": 14,
    "start_time": "2022-06-01T18:21:40.690Z"
   },
   {
    "duration": 118,
    "start_time": "2022-06-01T18:23:13.074Z"
   },
   {
    "duration": 4,
    "start_time": "2022-06-01T18:23:21.081Z"
   },
   {
    "duration": 16,
    "start_time": "2022-06-01T18:23:23.185Z"
   },
   {
    "duration": 39,
    "start_time": "2022-06-01T18:23:32.082Z"
   },
   {
    "duration": 1160,
    "start_time": "2022-06-01T18:23:41.057Z"
   },
   {
    "duration": 55,
    "start_time": "2022-06-01T18:23:42.219Z"
   },
   {
    "duration": 36,
    "start_time": "2022-06-01T18:23:42.276Z"
   },
   {
    "duration": 613,
    "start_time": "2022-06-01T18:23:42.314Z"
   },
   {
    "duration": 5,
    "start_time": "2022-06-01T18:23:42.929Z"
   },
   {
    "duration": 1468,
    "start_time": "2022-06-01T18:23:42.935Z"
   },
   {
    "duration": 27,
    "start_time": "2022-06-01T18:23:44.405Z"
   },
   {
    "duration": 3,
    "start_time": "2022-06-01T18:23:44.434Z"
   },
   {
    "duration": 56,
    "start_time": "2022-06-01T18:23:44.439Z"
   },
   {
    "duration": 1231,
    "start_time": "2022-06-01T18:23:44.497Z"
   },
   {
    "duration": 14068,
    "start_time": "2022-06-01T18:23:45.729Z"
   },
   {
    "duration": 16,
    "start_time": "2022-06-01T18:23:59.799Z"
   },
   {
    "duration": 1010,
    "start_time": "2022-06-01T18:23:59.816Z"
   },
   {
    "duration": 15707,
    "start_time": "2022-06-01T18:24:00.828Z"
   },
   {
    "duration": 1231,
    "start_time": "2022-06-01T18:24:16.537Z"
   },
   {
    "duration": 14076,
    "start_time": "2022-06-01T18:24:17.770Z"
   },
   {
    "duration": 49,
    "start_time": "2022-06-01T18:24:31.848Z"
   },
   {
    "duration": 993,
    "start_time": "2022-06-01T18:24:31.900Z"
   },
   {
    "duration": 3,
    "start_time": "2022-06-01T18:24:32.895Z"
   },
   {
    "duration": 4089,
    "start_time": "2022-06-01T18:32:44.614Z"
   },
   {
    "duration": 1197,
    "start_time": "2022-06-01T18:33:27.339Z"
   },
   {
    "duration": 57,
    "start_time": "2022-06-01T18:33:28.538Z"
   },
   {
    "duration": 39,
    "start_time": "2022-06-01T18:33:28.596Z"
   },
   {
    "duration": 607,
    "start_time": "2022-06-01T18:33:28.636Z"
   },
   {
    "duration": 5,
    "start_time": "2022-06-01T18:33:29.245Z"
   },
   {
    "duration": 1945,
    "start_time": "2022-06-01T18:33:29.251Z"
   },
   {
    "duration": 34,
    "start_time": "2022-06-01T18:33:31.198Z"
   },
   {
    "duration": 3,
    "start_time": "2022-06-01T18:33:31.234Z"
   },
   {
    "duration": 74,
    "start_time": "2022-06-01T18:33:31.239Z"
   },
   {
    "duration": 1205,
    "start_time": "2022-06-01T18:33:31.315Z"
   },
   {
    "duration": 14159,
    "start_time": "2022-06-01T18:33:32.522Z"
   },
   {
    "duration": 210,
    "start_time": "2022-06-01T18:33:46.682Z"
   },
   {
    "duration": 846,
    "start_time": "2022-06-01T18:33:46.894Z"
   },
   {
    "duration": 16034,
    "start_time": "2022-06-01T18:33:47.792Z"
   },
   {
    "duration": 1243,
    "start_time": "2022-06-01T18:34:03.828Z"
   },
   {
    "duration": 14281,
    "start_time": "2022-06-01T18:34:05.073Z"
   },
   {
    "duration": 138,
    "start_time": "2022-06-01T18:34:19.356Z"
   },
   {
    "duration": 937,
    "start_time": "2022-06-01T18:34:19.496Z"
   },
   {
    "duration": 4,
    "start_time": "2022-06-01T18:34:20.434Z"
   },
   {
    "duration": 1159,
    "start_time": "2022-06-01T18:45:56.617Z"
   },
   {
    "duration": 54,
    "start_time": "2022-06-01T18:45:57.777Z"
   },
   {
    "duration": 35,
    "start_time": "2022-06-01T18:45:57.833Z"
   },
   {
    "duration": 569,
    "start_time": "2022-06-01T18:45:57.870Z"
   },
   {
    "duration": 5,
    "start_time": "2022-06-01T18:45:58.441Z"
   },
   {
    "duration": 1764,
    "start_time": "2022-06-01T18:45:58.447Z"
   },
   {
    "duration": 26,
    "start_time": "2022-06-01T18:46:00.292Z"
   },
   {
    "duration": 4,
    "start_time": "2022-06-01T18:46:00.319Z"
   },
   {
    "duration": 62,
    "start_time": "2022-06-01T18:46:00.325Z"
   },
   {
    "duration": 1237,
    "start_time": "2022-06-01T18:46:00.390Z"
   },
   {
    "duration": 14202,
    "start_time": "2022-06-01T18:46:01.628Z"
   },
   {
    "duration": 64,
    "start_time": "2022-06-01T18:46:15.832Z"
   },
   {
    "duration": 1013,
    "start_time": "2022-06-01T18:46:15.898Z"
   },
   {
    "duration": 16024,
    "start_time": "2022-06-01T18:46:16.912Z"
   },
   {
    "duration": 1259,
    "start_time": "2022-06-01T18:46:32.937Z"
   },
   {
    "duration": 14202,
    "start_time": "2022-06-01T18:46:34.198Z"
   },
   {
    "duration": 96,
    "start_time": "2022-06-01T18:46:48.401Z"
   },
   {
    "duration": 993,
    "start_time": "2022-06-01T18:46:48.499Z"
   },
   {
    "duration": 3,
    "start_time": "2022-06-01T18:46:49.494Z"
   },
   {
    "duration": 462,
    "start_time": "2022-06-01T18:50:49.711Z"
   },
   {
    "duration": 1241,
    "start_time": "2022-06-01T18:51:15.160Z"
   },
   {
    "duration": 54,
    "start_time": "2022-06-01T18:51:16.403Z"
   },
   {
    "duration": 34,
    "start_time": "2022-06-01T18:51:16.459Z"
   },
   {
    "duration": 640,
    "start_time": "2022-06-01T18:51:16.495Z"
   },
   {
    "duration": 6,
    "start_time": "2022-06-01T18:51:17.136Z"
   },
   {
    "duration": 2050,
    "start_time": "2022-06-01T18:51:17.143Z"
   },
   {
    "duration": 36,
    "start_time": "2022-06-01T18:51:19.195Z"
   },
   {
    "duration": 86,
    "start_time": "2022-06-01T18:51:19.233Z"
   },
   {
    "duration": 1224,
    "start_time": "2022-06-01T18:51:19.320Z"
   },
   {
    "duration": 14553,
    "start_time": "2022-06-01T18:51:20.546Z"
   },
   {
    "duration": 95,
    "start_time": "2022-06-01T18:51:35.101Z"
   },
   {
    "duration": 1001,
    "start_time": "2022-06-01T18:51:35.198Z"
   },
   {
    "duration": 16191,
    "start_time": "2022-06-01T18:51:36.201Z"
   },
   {
    "duration": 1279,
    "start_time": "2022-06-01T18:51:52.398Z"
   },
   {
    "duration": 14382,
    "start_time": "2022-06-01T18:51:53.679Z"
   },
   {
    "duration": 39,
    "start_time": "2022-06-01T18:52:08.062Z"
   },
   {
    "duration": 907,
    "start_time": "2022-06-01T18:52:08.198Z"
   },
   {
    "duration": 3,
    "start_time": "2022-06-01T18:52:09.107Z"
   },
   {
    "duration": 5,
    "start_time": "2022-06-01T18:56:42.171Z"
   },
   {
    "duration": 1233,
    "start_time": "2022-06-01T18:57:03.795Z"
   },
   {
    "duration": 57,
    "start_time": "2022-06-01T18:57:05.029Z"
   },
   {
    "duration": 35,
    "start_time": "2022-06-01T18:57:05.087Z"
   },
   {
    "duration": 611,
    "start_time": "2022-06-01T18:57:05.124Z"
   },
   {
    "duration": 5,
    "start_time": "2022-06-01T18:57:05.737Z"
   },
   {
    "duration": 1456,
    "start_time": "2022-06-01T18:57:05.743Z"
   },
   {
    "duration": 28,
    "start_time": "2022-06-01T18:57:07.200Z"
   },
   {
    "duration": 9,
    "start_time": "2022-06-01T18:57:07.230Z"
   },
   {
    "duration": 1213,
    "start_time": "2022-06-01T18:57:07.240Z"
   },
   {
    "duration": 14044,
    "start_time": "2022-06-01T18:57:08.456Z"
   },
   {
    "duration": 189,
    "start_time": "2022-06-01T18:57:22.502Z"
   },
   {
    "duration": 917,
    "start_time": "2022-06-01T18:57:22.693Z"
   },
   {
    "duration": 15779,
    "start_time": "2022-06-01T18:57:23.612Z"
   },
   {
    "duration": 1250,
    "start_time": "2022-06-01T18:57:39.393Z"
   },
   {
    "duration": 15296,
    "start_time": "2022-06-01T18:57:40.645Z"
   },
   {
    "duration": 10,
    "start_time": "2022-06-01T18:57:55.942Z"
   },
   {
    "duration": 1112,
    "start_time": "2022-06-01T18:57:55.992Z"
   },
   {
    "duration": 4,
    "start_time": "2022-06-01T18:57:57.107Z"
   },
   {
    "duration": 5,
    "start_time": "2022-06-01T18:57:57.113Z"
   },
   {
    "duration": 3888,
    "start_time": "2022-06-01T18:58:01.611Z"
   },
   {
    "duration": 1262,
    "start_time": "2022-06-01T18:58:25.874Z"
   },
   {
    "duration": 57,
    "start_time": "2022-06-01T18:58:27.138Z"
   },
   {
    "duration": 38,
    "start_time": "2022-06-01T18:58:27.197Z"
   },
   {
    "duration": 622,
    "start_time": "2022-06-01T18:58:27.237Z"
   },
   {
    "duration": 7,
    "start_time": "2022-06-01T18:58:27.861Z"
   },
   {
    "duration": 1730,
    "start_time": "2022-06-01T18:58:27.870Z"
   },
   {
    "duration": 29,
    "start_time": "2022-06-01T18:58:29.602Z"
   },
   {
    "duration": 11,
    "start_time": "2022-06-01T18:58:29.633Z"
   },
   {
    "duration": 1262,
    "start_time": "2022-06-01T18:58:29.645Z"
   },
   {
    "duration": 14187,
    "start_time": "2022-06-01T18:58:30.910Z"
   },
   {
    "duration": 194,
    "start_time": "2022-06-01T18:58:45.098Z"
   },
   {
    "duration": 917,
    "start_time": "2022-06-01T18:58:45.294Z"
   },
   {
    "duration": 15814,
    "start_time": "2022-06-01T18:58:46.213Z"
   },
   {
    "duration": 1240,
    "start_time": "2022-06-01T18:59:02.029Z"
   },
   {
    "duration": 1198,
    "start_time": "2022-06-01T18:59:06.736Z"
   },
   {
    "duration": 60,
    "start_time": "2022-06-01T18:59:07.935Z"
   },
   {
    "duration": 38,
    "start_time": "2022-06-01T18:59:07.997Z"
   },
   {
    "duration": 621,
    "start_time": "2022-06-01T18:59:08.038Z"
   },
   {
    "duration": 6,
    "start_time": "2022-06-01T18:59:08.661Z"
   },
   {
    "duration": 1729,
    "start_time": "2022-06-01T18:59:08.669Z"
   },
   {
    "duration": 31,
    "start_time": "2022-06-01T18:59:10.400Z"
   },
   {
    "duration": 11,
    "start_time": "2022-06-01T18:59:10.433Z"
   },
   {
    "duration": 1275,
    "start_time": "2022-06-01T18:59:10.445Z"
   },
   {
    "duration": 14391,
    "start_time": "2022-06-01T18:59:11.722Z"
   },
   {
    "duration": 190,
    "start_time": "2022-06-01T18:59:26.114Z"
   },
   {
    "duration": 1110,
    "start_time": "2022-06-01T18:59:26.306Z"
   },
   {
    "duration": 16494,
    "start_time": "2022-06-01T18:59:27.417Z"
   },
   {
    "duration": 1254,
    "start_time": "2022-06-01T18:59:43.913Z"
   },
   {
    "duration": 14536,
    "start_time": "2022-06-01T18:59:45.168Z"
   },
   {
    "duration": 186,
    "start_time": "2022-06-01T18:59:59.706Z"
   },
   {
    "duration": 1019,
    "start_time": "2022-06-01T18:59:59.893Z"
   },
   {
    "duration": 4,
    "start_time": "2022-06-01T19:00:00.914Z"
   },
   {
    "duration": 1226,
    "start_time": "2022-06-01T19:03:01.613Z"
   },
   {
    "duration": 57,
    "start_time": "2022-06-01T19:03:02.840Z"
   },
   {
    "duration": 36,
    "start_time": "2022-06-01T19:03:02.898Z"
   },
   {
    "duration": 638,
    "start_time": "2022-06-01T19:03:02.937Z"
   },
   {
    "duration": 5,
    "start_time": "2022-06-01T19:03:03.577Z"
   },
   {
    "duration": 2023,
    "start_time": "2022-06-01T19:03:03.584Z"
   },
   {
    "duration": 111,
    "start_time": "2022-06-01T19:03:05.610Z"
   },
   {
    "duration": 10,
    "start_time": "2022-06-01T19:03:05.723Z"
   },
   {
    "duration": 1332,
    "start_time": "2022-06-01T19:03:05.734Z"
   },
   {
    "duration": 14412,
    "start_time": "2022-06-01T19:03:07.068Z"
   },
   {
    "duration": 118,
    "start_time": "2022-06-01T19:03:21.482Z"
   },
   {
    "duration": 935,
    "start_time": "2022-06-01T19:03:21.691Z"
   },
   {
    "duration": 17364,
    "start_time": "2022-06-01T19:03:22.628Z"
   },
   {
    "duration": 1344,
    "start_time": "2022-06-01T19:03:39.995Z"
   },
   {
    "duration": 15444,
    "start_time": "2022-06-01T19:03:41.342Z"
   },
   {
    "duration": 12,
    "start_time": "2022-06-01T19:03:56.787Z"
   },
   {
    "duration": 1207,
    "start_time": "2022-06-01T19:03:56.801Z"
   },
   {
    "duration": 3,
    "start_time": "2022-06-01T19:03:58.010Z"
   },
   {
    "duration": 1211,
    "start_time": "2022-06-01T19:05:37.122Z"
   },
   {
    "duration": 54,
    "start_time": "2022-06-01T19:05:38.335Z"
   },
   {
    "duration": 41,
    "start_time": "2022-06-01T19:05:38.391Z"
   },
   {
    "duration": 617,
    "start_time": "2022-06-01T19:05:38.434Z"
   },
   {
    "duration": 5,
    "start_time": "2022-06-01T19:05:39.053Z"
   },
   {
    "duration": 2641,
    "start_time": "2022-06-01T19:05:39.059Z"
   },
   {
    "duration": 30,
    "start_time": "2022-06-01T19:05:41.702Z"
   },
   {
    "duration": 9,
    "start_time": "2022-06-01T19:05:41.733Z"
   },
   {
    "duration": 1255,
    "start_time": "2022-06-01T19:05:41.744Z"
   },
   {
    "duration": 14664,
    "start_time": "2022-06-01T19:05:43.002Z"
   },
   {
    "duration": 135,
    "start_time": "2022-06-01T19:05:57.667Z"
   },
   {
    "duration": 1100,
    "start_time": "2022-06-01T19:05:57.808Z"
   },
   {
    "duration": 16305,
    "start_time": "2022-06-01T19:05:58.910Z"
   },
   {
    "duration": 1274,
    "start_time": "2022-06-01T19:06:15.217Z"
   },
   {
    "duration": 14823,
    "start_time": "2022-06-01T19:06:16.499Z"
   },
   {
    "duration": 77,
    "start_time": "2022-06-01T19:06:31.325Z"
   },
   {
    "duration": 1109,
    "start_time": "2022-06-01T19:06:31.404Z"
   },
   {
    "duration": 3,
    "start_time": "2022-06-01T19:06:32.515Z"
   },
   {
    "duration": 376,
    "start_time": "2022-06-01T19:25:47.150Z"
   },
   {
    "duration": 163,
    "start_time": "2022-06-01T19:26:31.951Z"
   },
   {
    "duration": 181,
    "start_time": "2022-06-01T19:27:04.695Z"
   },
   {
    "duration": 163,
    "start_time": "2022-06-01T19:27:10.455Z"
   },
   {
    "duration": 256,
    "start_time": "2022-06-01T19:27:16.220Z"
   },
   {
    "duration": 198,
    "start_time": "2022-06-01T19:29:13.387Z"
   },
   {
    "duration": 186,
    "start_time": "2022-06-01T19:29:34.554Z"
   },
   {
    "duration": 183,
    "start_time": "2022-06-01T19:30:10.536Z"
   },
   {
    "duration": 174,
    "start_time": "2022-06-01T19:30:30.317Z"
   },
   {
    "duration": 187,
    "start_time": "2022-06-01T19:30:55.563Z"
   },
   {
    "duration": 176,
    "start_time": "2022-06-01T19:32:39.178Z"
   },
   {
    "duration": 180,
    "start_time": "2022-06-01T19:32:49.596Z"
   },
   {
    "duration": 170,
    "start_time": "2022-06-01T19:32:57.019Z"
   },
   {
    "duration": 191,
    "start_time": "2022-06-01T19:35:21.677Z"
   },
   {
    "duration": 167,
    "start_time": "2022-06-01T19:35:40.566Z"
   },
   {
    "duration": 195,
    "start_time": "2022-06-01T19:35:49.990Z"
   },
   {
    "duration": 195,
    "start_time": "2022-06-01T19:37:54.410Z"
   },
   {
    "duration": 208,
    "start_time": "2022-06-01T19:38:14.222Z"
   },
   {
    "duration": 193,
    "start_time": "2022-06-01T19:38:46.631Z"
   },
   {
    "duration": 192,
    "start_time": "2022-06-01T19:39:26.064Z"
   },
   {
    "duration": 287,
    "start_time": "2022-06-01T19:45:11.265Z"
   },
   {
    "duration": 177,
    "start_time": "2022-06-01T19:46:11.609Z"
   },
   {
    "duration": 841,
    "start_time": "2022-06-01T19:47:18.765Z"
   },
   {
    "duration": 1253,
    "start_time": "2022-06-01T19:55:25.688Z"
   },
   {
    "duration": 57,
    "start_time": "2022-06-01T19:55:26.943Z"
   },
   {
    "duration": 37,
    "start_time": "2022-06-01T19:55:27.001Z"
   },
   {
    "duration": 606,
    "start_time": "2022-06-01T19:55:27.041Z"
   },
   {
    "duration": 5,
    "start_time": "2022-06-01T19:55:27.649Z"
   },
   {
    "duration": 1750,
    "start_time": "2022-06-01T19:55:27.656Z"
   },
   {
    "duration": 26,
    "start_time": "2022-06-01T19:55:29.408Z"
   },
   {
    "duration": 9,
    "start_time": "2022-06-01T19:55:29.436Z"
   },
   {
    "duration": 1273,
    "start_time": "2022-06-01T19:55:29.447Z"
   },
   {
    "duration": 14643,
    "start_time": "2022-06-01T19:55:30.723Z"
   },
   {
    "duration": 225,
    "start_time": "2022-06-01T19:55:45.368Z"
   },
   {
    "duration": 1207,
    "start_time": "2022-06-01T19:55:45.596Z"
   },
   {
    "duration": 16308,
    "start_time": "2022-06-01T19:55:46.804Z"
   },
   {
    "duration": 1289,
    "start_time": "2022-06-01T19:56:03.114Z"
   },
   {
    "duration": 14227,
    "start_time": "2022-06-01T19:56:04.405Z"
   },
   {
    "duration": 158,
    "start_time": "2022-06-01T19:56:18.634Z"
   },
   {
    "duration": 814,
    "start_time": "2022-06-01T19:56:18.794Z"
   },
   {
    "duration": 4,
    "start_time": "2022-06-01T19:56:19.610Z"
   },
   {
    "duration": 937,
    "start_time": "2022-06-01T19:56:19.615Z"
   },
   {
    "duration": 1274,
    "start_time": "2022-06-01T20:04:57.049Z"
   },
   {
    "duration": 56,
    "start_time": "2022-06-01T20:04:58.326Z"
   },
   {
    "duration": 44,
    "start_time": "2022-06-01T20:04:58.384Z"
   },
   {
    "duration": 652,
    "start_time": "2022-06-01T20:04:58.431Z"
   },
   {
    "duration": 6,
    "start_time": "2022-06-01T20:04:59.085Z"
   },
   {
    "duration": 1915,
    "start_time": "2022-06-01T20:04:59.092Z"
   },
   {
    "duration": 109,
    "start_time": "2022-06-01T20:05:01.009Z"
   },
   {
    "duration": 13,
    "start_time": "2022-06-01T20:05:01.121Z"
   },
   {
    "duration": 1254,
    "start_time": "2022-06-01T20:05:01.136Z"
   },
   {
    "duration": 14148,
    "start_time": "2022-06-01T20:05:02.393Z"
   },
   {
    "duration": 152,
    "start_time": "2022-06-01T20:05:16.543Z"
   },
   {
    "duration": 910,
    "start_time": "2022-06-01T20:05:16.697Z"
   },
   {
    "duration": 16423,
    "start_time": "2022-06-01T20:05:17.608Z"
   },
   {
    "duration": 1298,
    "start_time": "2022-06-01T20:05:34.033Z"
   },
   {
    "duration": 14611,
    "start_time": "2022-06-01T20:05:35.333Z"
   },
   {
    "duration": 247,
    "start_time": "2022-06-01T20:05:49.945Z"
   },
   {
    "duration": 935,
    "start_time": "2022-06-01T20:05:50.195Z"
   },
   {
    "duration": 3,
    "start_time": "2022-06-01T20:05:51.132Z"
   },
   {
    "duration": 979,
    "start_time": "2022-06-01T20:05:51.137Z"
   },
   {
    "duration": 1529,
    "start_time": "2022-06-02T18:52:57.851Z"
   },
   {
    "duration": 225,
    "start_time": "2022-06-02T18:52:59.382Z"
   },
   {
    "duration": 49,
    "start_time": "2022-06-02T18:52:59.608Z"
   },
   {
    "duration": 780,
    "start_time": "2022-06-02T18:52:59.659Z"
   },
   {
    "duration": 6,
    "start_time": "2022-06-02T18:53:00.441Z"
   },
   {
    "duration": 2599,
    "start_time": "2022-06-02T18:53:00.449Z"
   },
   {
    "duration": 21,
    "start_time": "2022-06-02T18:53:03.051Z"
   },
   {
    "duration": 20,
    "start_time": "2022-06-02T18:53:03.074Z"
   },
   {
    "duration": 1355,
    "start_time": "2022-06-02T18:53:03.096Z"
   },
   {
    "duration": 15924,
    "start_time": "2022-06-02T18:53:04.454Z"
   },
   {
    "duration": 152,
    "start_time": "2022-06-02T18:53:20.380Z"
   },
   {
    "duration": 1216,
    "start_time": "2022-06-02T18:53:20.534Z"
   },
   {
    "duration": 18406,
    "start_time": "2022-06-02T18:53:21.752Z"
   },
   {
    "duration": 1461,
    "start_time": "2022-06-02T18:53:40.161Z"
   },
   {
    "duration": 15976,
    "start_time": "2022-06-02T18:53:41.626Z"
   },
   {
    "duration": 238,
    "start_time": "2022-06-02T18:53:57.603Z"
   },
   {
    "duration": 1322,
    "start_time": "2022-06-02T18:53:57.844Z"
   },
   {
    "duration": 3,
    "start_time": "2022-06-02T18:53:59.168Z"
   },
   {
    "duration": 1172,
    "start_time": "2022-06-02T18:53:59.173Z"
   },
   {
    "duration": 1471,
    "start_time": "2022-06-02T18:55:14.283Z"
   },
   {
    "duration": 59,
    "start_time": "2022-06-02T18:55:15.756Z"
   },
   {
    "duration": 47,
    "start_time": "2022-06-02T18:55:15.816Z"
   },
   {
    "duration": 676,
    "start_time": "2022-06-02T18:55:15.865Z"
   },
   {
    "duration": 6,
    "start_time": "2022-06-02T18:55:16.543Z"
   },
   {
    "duration": 2291,
    "start_time": "2022-06-02T18:55:16.550Z"
   },
   {
    "duration": 12,
    "start_time": "2022-06-02T18:55:18.844Z"
   },
   {
    "duration": 13,
    "start_time": "2022-06-02T18:55:18.857Z"
   },
   {
    "duration": 1386,
    "start_time": "2022-06-02T18:55:18.872Z"
   },
   {
    "duration": 16102,
    "start_time": "2022-06-02T18:55:20.260Z"
   },
   {
    "duration": 187,
    "start_time": "2022-06-02T18:55:36.364Z"
   },
   {
    "duration": 1303,
    "start_time": "2022-06-02T18:55:36.557Z"
   },
   {
    "duration": 18974,
    "start_time": "2022-06-02T18:55:37.862Z"
   },
   {
    "duration": 1363,
    "start_time": "2022-06-02T18:55:56.841Z"
   },
   {
    "duration": 16613,
    "start_time": "2022-06-02T18:55:58.205Z"
   },
   {
    "duration": 202,
    "start_time": "2022-06-02T18:56:14.820Z"
   },
   {
    "duration": 1140,
    "start_time": "2022-06-02T18:56:15.025Z"
   },
   {
    "duration": 4,
    "start_time": "2022-06-02T18:56:16.167Z"
   },
   {
    "duration": 1180,
    "start_time": "2022-06-02T18:56:16.173Z"
   }
  ],
  "kernelspec": {
   "display_name": "Python 3 (ipykernel)",
   "language": "python",
   "name": "python3"
  },
  "language_info": {
   "codemirror_mode": {
    "name": "ipython",
    "version": 3
   },
   "file_extension": ".py",
   "mimetype": "text/x-python",
   "name": "python",
   "nbconvert_exporter": "python",
   "pygments_lexer": "ipython3",
   "version": "3.9.5"
  },
  "toc": {
   "base_numbering": 1,
   "nav_menu": {},
   "number_sections": true,
   "sideBar": true,
   "skip_h1_title": true,
   "title_cell": "Содержание",
   "title_sidebar": "Contents",
   "toc_cell": true,
   "toc_position": {},
   "toc_section_display": true,
   "toc_window_display": false
  }
 },
 "nbformat": 4,
 "nbformat_minor": 2
}
